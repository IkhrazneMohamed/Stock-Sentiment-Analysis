{
 "cells": [
  {
   "cell_type": "code",
   "execution_count": 2,
   "id": "df5c5f88",
   "metadata": {},
   "outputs": [],
   "source": [
    "import pandas as pd\n",
    "import re\n",
    "import datetime"
   ]
  },
  {
   "cell_type": "code",
   "execution_count": 2,
   "id": "4f9de95a",
   "metadata": {},
   "outputs": [],
   "source": [
    "bbc_news = pd.read_csv(r\"Scraping\\BBC News\\data.csv\", sep=\",\", index_col=0)"
   ]
  },
  {
   "cell_type": "code",
   "execution_count": 3,
   "id": "d5e28a57",
   "metadata": {},
   "outputs": [
    {
     "data": {
      "text/html": [
       "<div>\n",
       "<style scoped>\n",
       "    .dataframe tbody tr th:only-of-type {\n",
       "        vertical-align: middle;\n",
       "    }\n",
       "\n",
       "    .dataframe tbody tr th {\n",
       "        vertical-align: top;\n",
       "    }\n",
       "\n",
       "    .dataframe thead th {\n",
       "        text-align: right;\n",
       "    }\n",
       "</style>\n",
       "<table border=\"1\" class=\"dataframe\">\n",
       "  <thead>\n",
       "    <tr style=\"text-align: right;\">\n",
       "      <th></th>\n",
       "      <th>news</th>\n",
       "      <th>date</th>\n",
       "      <th>category</th>\n",
       "    </tr>\n",
       "  </thead>\n",
       "  <tbody>\n",
       "    <tr>\n",
       "      <th>0</th>\n",
       "      <td>Elon Musk Tesla pay package heads to court A s...</td>\n",
       "      <td>14 November</td>\n",
       "      <td>Business</td>\n",
       "    </tr>\n",
       "    <tr>\n",
       "      <th>1</th>\n",
       "      <td>Elon Musk sells almost $4bn of Tesla shares It...</td>\n",
       "      <td>9 November</td>\n",
       "      <td>Business</td>\n",
       "    </tr>\n",
       "    <tr>\n",
       "      <th>2</th>\n",
       "      <td>Tesla recalls 40,000 cars over power-steering ...</td>\n",
       "      <td>8 November</td>\n",
       "      <td>Technology</td>\n",
       "    </tr>\n",
       "    <tr>\n",
       "      <th>3</th>\n",
       "      <td>Tesla sales climb but miss expectations Elon M...</td>\n",
       "      <td>19 October</td>\n",
       "      <td>Business</td>\n",
       "    </tr>\n",
       "    <tr>\n",
       "      <th>4</th>\n",
       "      <td>Tesla's Optimus and the problem with humanoids...</td>\n",
       "      <td>8 October</td>\n",
       "      <td>Technology</td>\n",
       "    </tr>\n",
       "  </tbody>\n",
       "</table>\n",
       "</div>"
      ],
      "text/plain": [
       "                                                news         date    category\n",
       "0  Elon Musk Tesla pay package heads to court A s...  14 November    Business\n",
       "1  Elon Musk sells almost $4bn of Tesla shares It...   9 November    Business\n",
       "2  Tesla recalls 40,000 cars over power-steering ...   8 November  Technology\n",
       "3  Tesla sales climb but miss expectations Elon M...   19 October    Business\n",
       "4  Tesla's Optimus and the problem with humanoids...    8 October  Technology"
      ]
     },
     "execution_count": 3,
     "metadata": {},
     "output_type": "execute_result"
    }
   ],
   "source": [
    "bbc_news.head()"
   ]
  },
  {
   "cell_type": "code",
   "execution_count": 4,
   "id": "0809ac39",
   "metadata": {},
   "outputs": [],
   "source": [
    "def format_date(date):\n",
    "    Months = {\n",
    "        \"January\": 1, \"February\": 2, \"March\": 3, \"April\": 4, \"May\": 5, \"June\": 6, \"July\": 7, \"August\": 8\n",
    "        , \"September\": 9, \"October\": 10, \"November\": 11, \"December\": 12\n",
    "    }\n",
    "    date_components = date.split(\" \")\n",
    "    \n",
    "    if len(date_components) == 2:\n",
    "        year = \"2022\"\n",
    "        day = date_components[0]\n",
    "        month = str(Months[date_components[-1]])\n",
    "                    \n",
    "        if len(month) == 1:\n",
    "            month = \"0\" + month\n",
    "        \n",
    "    else:\n",
    "        day = date_components[0]\n",
    "        month = str(Months[date_components[1]])\n",
    "        \n",
    "        if len(month) == 1:\n",
    "            month = \"0\" + month\n",
    "                    \n",
    "        year = date_components[-1]\n",
    "    \n",
    "    return \"-\".join([year, month, day])\n"
   ]
  },
  {
   "cell_type": "code",
   "execution_count": 5,
   "id": "b9ccdf13",
   "metadata": {},
   "outputs": [],
   "source": [
    "bbc_news[\"date\"] = bbc_news[\"date\"].apply(format_date)"
   ]
  },
  {
   "cell_type": "code",
   "execution_count": 45,
   "id": "ca82e864",
   "metadata": {},
   "outputs": [
    {
     "data": {
      "text/html": [
       "<div>\n",
       "<style scoped>\n",
       "    .dataframe tbody tr th:only-of-type {\n",
       "        vertical-align: middle;\n",
       "    }\n",
       "\n",
       "    .dataframe tbody tr th {\n",
       "        vertical-align: top;\n",
       "    }\n",
       "\n",
       "    .dataframe thead th {\n",
       "        text-align: right;\n",
       "    }\n",
       "</style>\n",
       "<table border=\"1\" class=\"dataframe\">\n",
       "  <thead>\n",
       "    <tr style=\"text-align: right;\">\n",
       "      <th></th>\n",
       "      <th>date</th>\n",
       "      <th>news</th>\n",
       "    </tr>\n",
       "  </thead>\n",
       "  <tbody>\n",
       "    <tr>\n",
       "      <th>0</th>\n",
       "      <td>2022-11-14</td>\n",
       "      <td>Elon Musk Tesla pay package heads to court A s...</td>\n",
       "    </tr>\n",
       "    <tr>\n",
       "      <th>1</th>\n",
       "      <td>2022-11-9</td>\n",
       "      <td>Elon Musk sells almost $4bn of Tesla shares It...</td>\n",
       "    </tr>\n",
       "    <tr>\n",
       "      <th>2</th>\n",
       "      <td>2022-11-8</td>\n",
       "      <td>Tesla recalls 40,000 cars over power-steering ...</td>\n",
       "    </tr>\n",
       "    <tr>\n",
       "      <th>3</th>\n",
       "      <td>2022-10-19</td>\n",
       "      <td>Tesla sales climb but miss expectations Elon M...</td>\n",
       "    </tr>\n",
       "    <tr>\n",
       "      <th>4</th>\n",
       "      <td>2022-10-8</td>\n",
       "      <td>Tesla's Optimus and the problem with humanoids...</td>\n",
       "    </tr>\n",
       "  </tbody>\n",
       "</table>\n",
       "</div>"
      ],
      "text/plain": [
       "         date                                               news\n",
       "0  2022-11-14  Elon Musk Tesla pay package heads to court A s...\n",
       "1   2022-11-9  Elon Musk sells almost $4bn of Tesla shares It...\n",
       "2   2022-11-8  Tesla recalls 40,000 cars over power-steering ...\n",
       "3  2022-10-19  Tesla sales climb but miss expectations Elon M...\n",
       "4   2022-10-8  Tesla's Optimus and the problem with humanoids..."
      ]
     },
     "execution_count": 45,
     "metadata": {},
     "output_type": "execute_result"
    }
   ],
   "source": [
    "bbc_news = bbc_news[[\"date\", \"news\"]]\n",
    "bbc_news.head()"
   ]
  },
  {
   "cell_type": "code",
   "execution_count": 7,
   "id": "f85f1119",
   "metadata": {},
   "outputs": [],
   "source": [
    "newYorkTime_news = pd.read_csv(r\"Scraping\\New York Times\\data.csv\", sep=\",\", index_col=0)"
   ]
  },
  {
   "cell_type": "code",
   "execution_count": 8,
   "id": "d10a3c43",
   "metadata": {},
   "outputs": [
    {
     "data": {
      "text/html": [
       "<div>\n",
       "<style scoped>\n",
       "    .dataframe tbody tr th:only-of-type {\n",
       "        vertical-align: middle;\n",
       "    }\n",
       "\n",
       "    .dataframe tbody tr th {\n",
       "        vertical-align: top;\n",
       "    }\n",
       "\n",
       "    .dataframe thead th {\n",
       "        text-align: right;\n",
       "    }\n",
       "</style>\n",
       "<table border=\"1\" class=\"dataframe\">\n",
       "  <thead>\n",
       "    <tr style=\"text-align: right;\">\n",
       "      <th></th>\n",
       "      <th>news</th>\n",
       "      <th>date</th>\n",
       "    </tr>\n",
       "  </thead>\n",
       "  <tbody>\n",
       "    <tr>\n",
       "      <th>0</th>\n",
       "      <td>The company says it has determined the likely ...</td>\n",
       "      <td>2017-01-02T14:30:09+0000</td>\n",
       "    </tr>\n",
       "    <tr>\n",
       "      <th>1</th>\n",
       "      <td>The return to business for Elon Musk’s company...</td>\n",
       "      <td>2017-01-14T17:58:44+0000</td>\n",
       "    </tr>\n",
       "    <tr>\n",
       "      <th>2</th>\n",
       "      <td>The highway agency found that while Tesla’s Au...</td>\n",
       "      <td>2017-01-20T01:34:40+0000</td>\n",
       "    </tr>\n",
       "    <tr>\n",
       "      <th>3</th>\n",
       "      <td>Electric vehicles offer a new chance to Chines...</td>\n",
       "      <td>2017-01-26T16:43:52+0000</td>\n",
       "    </tr>\n",
       "    <tr>\n",
       "      <th>4</th>\n",
       "      <td>The political tide might seem unfavorable for ...</td>\n",
       "      <td>2017-01-26T17:39:58+0000</td>\n",
       "    </tr>\n",
       "  </tbody>\n",
       "</table>\n",
       "</div>"
      ],
      "text/plain": [
       "                                                news                      date\n",
       "0  The company says it has determined the likely ...  2017-01-02T14:30:09+0000\n",
       "1  The return to business for Elon Musk’s company...  2017-01-14T17:58:44+0000\n",
       "2  The highway agency found that while Tesla’s Au...  2017-01-20T01:34:40+0000\n",
       "3  Electric vehicles offer a new chance to Chines...  2017-01-26T16:43:52+0000\n",
       "4  The political tide might seem unfavorable for ...  2017-01-26T17:39:58+0000"
      ]
     },
     "execution_count": 8,
     "metadata": {},
     "output_type": "execute_result"
    }
   ],
   "source": [
    "newYorkTime_news.head()"
   ]
  },
  {
   "cell_type": "code",
   "execution_count": 9,
   "id": "1f435f1d",
   "metadata": {},
   "outputs": [
    {
     "name": "stdout",
     "output_type": "stream",
     "text": [
      "<class 'pandas.core.frame.DataFrame'>\n",
      "Int64Index: 1316 entries, 0 to 9\n",
      "Data columns (total 2 columns):\n",
      " #   Column  Non-Null Count  Dtype \n",
      "---  ------  --------------  ----- \n",
      " 0   news    1316 non-null   object\n",
      " 1   date    1316 non-null   object\n",
      "dtypes: object(2)\n",
      "memory usage: 30.8+ KB\n"
     ]
    }
   ],
   "source": [
    "newYorkTime_news.info()"
   ]
  },
  {
   "cell_type": "code",
   "execution_count": 10,
   "id": "4f0422d9",
   "metadata": {},
   "outputs": [],
   "source": [
    "newYorkTime_news.drop_duplicates(inplace=True)"
   ]
  },
  {
   "cell_type": "code",
   "execution_count": 11,
   "id": "0cd6e2b6",
   "metadata": {},
   "outputs": [
    {
     "name": "stdout",
     "output_type": "stream",
     "text": [
      "<class 'pandas.core.frame.DataFrame'>\n",
      "Int64Index: 961 entries, 0 to 9\n",
      "Data columns (total 2 columns):\n",
      " #   Column  Non-Null Count  Dtype \n",
      "---  ------  --------------  ----- \n",
      " 0   news    961 non-null    object\n",
      " 1   date    961 non-null    object\n",
      "dtypes: object(2)\n",
      "memory usage: 22.5+ KB\n"
     ]
    }
   ],
   "source": [
    "newYorkTime_news.info()"
   ]
  },
  {
   "cell_type": "code",
   "execution_count": 12,
   "id": "d55539fb",
   "metadata": {},
   "outputs": [],
   "source": [
    "newYorkTime_news[\"date\"] = newYorkTime_news[\"date\"].apply(lambda x: x.split(\"T\")[0])"
   ]
  },
  {
   "cell_type": "code",
   "execution_count": 43,
   "id": "c05ab81a",
   "metadata": {},
   "outputs": [
    {
     "data": {
      "text/html": [
       "<div>\n",
       "<style scoped>\n",
       "    .dataframe tbody tr th:only-of-type {\n",
       "        vertical-align: middle;\n",
       "    }\n",
       "\n",
       "    .dataframe tbody tr th {\n",
       "        vertical-align: top;\n",
       "    }\n",
       "\n",
       "    .dataframe thead th {\n",
       "        text-align: right;\n",
       "    }\n",
       "</style>\n",
       "<table border=\"1\" class=\"dataframe\">\n",
       "  <thead>\n",
       "    <tr style=\"text-align: right;\">\n",
       "      <th></th>\n",
       "      <th>date</th>\n",
       "      <th>news</th>\n",
       "    </tr>\n",
       "  </thead>\n",
       "  <tbody>\n",
       "    <tr>\n",
       "      <th>0</th>\n",
       "      <td>2017-01-02</td>\n",
       "      <td>The company says it has determined the likely ...</td>\n",
       "    </tr>\n",
       "    <tr>\n",
       "      <th>1</th>\n",
       "      <td>2017-01-14</td>\n",
       "      <td>The return to business for Elon Musk’s company...</td>\n",
       "    </tr>\n",
       "    <tr>\n",
       "      <th>2</th>\n",
       "      <td>2017-01-20</td>\n",
       "      <td>The highway agency found that while Tesla’s Au...</td>\n",
       "    </tr>\n",
       "    <tr>\n",
       "      <th>3</th>\n",
       "      <td>2017-01-26</td>\n",
       "      <td>Electric vehicles offer a new chance to Chines...</td>\n",
       "    </tr>\n",
       "    <tr>\n",
       "      <th>4</th>\n",
       "      <td>2017-01-26</td>\n",
       "      <td>The political tide might seem unfavorable for ...</td>\n",
       "    </tr>\n",
       "  </tbody>\n",
       "</table>\n",
       "</div>"
      ],
      "text/plain": [
       "         date                                               news\n",
       "0  2017-01-02  The company says it has determined the likely ...\n",
       "1  2017-01-14  The return to business for Elon Musk’s company...\n",
       "2  2017-01-20  The highway agency found that while Tesla’s Au...\n",
       "3  2017-01-26  Electric vehicles offer a new chance to Chines...\n",
       "4  2017-01-26  The political tide might seem unfavorable for ..."
      ]
     },
     "execution_count": 43,
     "metadata": {},
     "output_type": "execute_result"
    }
   ],
   "source": [
    "newYorkTime_news = newYorkTime_news[[\"date\", \"news\"]]\n",
    "newYorkTime_news.head()"
   ]
  },
  {
   "cell_type": "code",
   "execution_count": 27,
   "id": "dff9f8e2",
   "metadata": {},
   "outputs": [],
   "source": [
    "twitts = pd.read_csv(r\"C:\\Users\\moham\\Downloads\\Tesla.csv\", sep=\",\", index_col=0)"
   ]
  },
  {
   "cell_type": "code",
   "execution_count": 28,
   "id": "89b248c2",
   "metadata": {},
   "outputs": [
    {
     "name": "stdout",
     "output_type": "stream",
     "text": [
      "<class 'pandas.core.frame.DataFrame'>\n",
      "Int64Index: 7358 entries, 0 to 10015\n",
      "Data columns (total 4 columns):\n",
      " #   Column    Non-Null Count  Dtype \n",
      "---  ------    --------------  ----- \n",
      " 0   date      7358 non-null   object\n",
      " 1   tweet     7358 non-null   object\n",
      " 2   nlikes    7358 non-null   int64 \n",
      " 3   nreplies  7358 non-null   int64 \n",
      "dtypes: int64(2), object(2)\n",
      "memory usage: 287.4+ KB\n"
     ]
    }
   ],
   "source": [
    "twitts.info()"
   ]
  },
  {
   "cell_type": "code",
   "execution_count": 29,
   "id": "3dd0f764",
   "metadata": {},
   "outputs": [
    {
     "data": {
      "text/html": [
       "<div>\n",
       "<style scoped>\n",
       "    .dataframe tbody tr th:only-of-type {\n",
       "        vertical-align: middle;\n",
       "    }\n",
       "\n",
       "    .dataframe tbody tr th {\n",
       "        vertical-align: top;\n",
       "    }\n",
       "\n",
       "    .dataframe thead th {\n",
       "        text-align: right;\n",
       "    }\n",
       "</style>\n",
       "<table border=\"1\" class=\"dataframe\">\n",
       "  <thead>\n",
       "    <tr style=\"text-align: right;\">\n",
       "      <th></th>\n",
       "      <th>date</th>\n",
       "      <th>tweet</th>\n",
       "      <th>nlikes</th>\n",
       "      <th>nreplies</th>\n",
       "    </tr>\n",
       "  </thead>\n",
       "  <tbody>\n",
       "    <tr>\n",
       "      <th>0</th>\n",
       "      <td>2022-07-11 17:06:24</td>\n",
       "      <td>@GailAlfarATX @elonmusk @Tesla @teslacn @Tesla...</td>\n",
       "      <td>0</td>\n",
       "      <td>0</td>\n",
       "    </tr>\n",
       "    <tr>\n",
       "      <th>1</th>\n",
       "      <td>2022-07-11 17:06:21</td>\n",
       "      <td>@elonmusk @GailAlfarATX @Tesla @teslacn @Tesla...</td>\n",
       "      <td>0</td>\n",
       "      <td>0</td>\n",
       "    </tr>\n",
       "    <tr>\n",
       "      <th>2</th>\n",
       "      <td>2022-07-11 17:06:20</td>\n",
       "      <td>@elonmusk #Think about buying a country , #Mex...</td>\n",
       "      <td>0</td>\n",
       "      <td>0</td>\n",
       "    </tr>\n",
       "    <tr>\n",
       "      <th>3</th>\n",
       "      <td>2022-07-11 17:06:12</td>\n",
       "      <td>@get_innocuous Actual receipts, and yet you ha...</td>\n",
       "      <td>0</td>\n",
       "      <td>0</td>\n",
       "    </tr>\n",
       "    <tr>\n",
       "      <th>4</th>\n",
       "      <td>2022-07-11 17:06:09</td>\n",
       "      <td>Tesla wall battery for the save! Power went ou...</td>\n",
       "      <td>0</td>\n",
       "      <td>0</td>\n",
       "    </tr>\n",
       "  </tbody>\n",
       "</table>\n",
       "</div>"
      ],
      "text/plain": [
       "                  date                                              tweet  \\\n",
       "0  2022-07-11 17:06:24  @GailAlfarATX @elonmusk @Tesla @teslacn @Tesla...   \n",
       "1  2022-07-11 17:06:21  @elonmusk @GailAlfarATX @Tesla @teslacn @Tesla...   \n",
       "2  2022-07-11 17:06:20  @elonmusk #Think about buying a country , #Mex...   \n",
       "3  2022-07-11 17:06:12  @get_innocuous Actual receipts, and yet you ha...   \n",
       "4  2022-07-11 17:06:09  Tesla wall battery for the save! Power went ou...   \n",
       "\n",
       "   nlikes  nreplies  \n",
       "0       0         0  \n",
       "1       0         0  \n",
       "2       0         0  \n",
       "3       0         0  \n",
       "4       0         0  "
      ]
     },
     "execution_count": 29,
     "metadata": {},
     "output_type": "execute_result"
    }
   ],
   "source": [
    "twitts.head()"
   ]
  },
  {
   "cell_type": "code",
   "execution_count": 30,
   "id": "59f7db67",
   "metadata": {},
   "outputs": [],
   "source": [
    "twitts[\"date\"] = twitts[\"date\"].apply(lambda x: x.split(\" \")[0])"
   ]
  },
  {
   "cell_type": "code",
   "execution_count": 31,
   "id": "c305400f",
   "metadata": {},
   "outputs": [
    {
     "data": {
      "text/html": [
       "<div>\n",
       "<style scoped>\n",
       "    .dataframe tbody tr th:only-of-type {\n",
       "        vertical-align: middle;\n",
       "    }\n",
       "\n",
       "    .dataframe tbody tr th {\n",
       "        vertical-align: top;\n",
       "    }\n",
       "\n",
       "    .dataframe thead th {\n",
       "        text-align: right;\n",
       "    }\n",
       "</style>\n",
       "<table border=\"1\" class=\"dataframe\">\n",
       "  <thead>\n",
       "    <tr style=\"text-align: right;\">\n",
       "      <th></th>\n",
       "      <th>date</th>\n",
       "      <th>tweet</th>\n",
       "      <th>nlikes</th>\n",
       "      <th>nreplies</th>\n",
       "    </tr>\n",
       "  </thead>\n",
       "  <tbody>\n",
       "    <tr>\n",
       "      <th>0</th>\n",
       "      <td>2022-07-11</td>\n",
       "      <td>@GailAlfarATX @elonmusk @Tesla @teslacn @Tesla...</td>\n",
       "      <td>0</td>\n",
       "      <td>0</td>\n",
       "    </tr>\n",
       "    <tr>\n",
       "      <th>1</th>\n",
       "      <td>2022-07-11</td>\n",
       "      <td>@elonmusk @GailAlfarATX @Tesla @teslacn @Tesla...</td>\n",
       "      <td>0</td>\n",
       "      <td>0</td>\n",
       "    </tr>\n",
       "    <tr>\n",
       "      <th>2</th>\n",
       "      <td>2022-07-11</td>\n",
       "      <td>@elonmusk #Think about buying a country , #Mex...</td>\n",
       "      <td>0</td>\n",
       "      <td>0</td>\n",
       "    </tr>\n",
       "    <tr>\n",
       "      <th>3</th>\n",
       "      <td>2022-07-11</td>\n",
       "      <td>@get_innocuous Actual receipts, and yet you ha...</td>\n",
       "      <td>0</td>\n",
       "      <td>0</td>\n",
       "    </tr>\n",
       "    <tr>\n",
       "      <th>4</th>\n",
       "      <td>2022-07-11</td>\n",
       "      <td>Tesla wall battery for the save! Power went ou...</td>\n",
       "      <td>0</td>\n",
       "      <td>0</td>\n",
       "    </tr>\n",
       "  </tbody>\n",
       "</table>\n",
       "</div>"
      ],
      "text/plain": [
       "         date                                              tweet  nlikes  \\\n",
       "0  2022-07-11  @GailAlfarATX @elonmusk @Tesla @teslacn @Tesla...       0   \n",
       "1  2022-07-11  @elonmusk @GailAlfarATX @Tesla @teslacn @Tesla...       0   \n",
       "2  2022-07-11  @elonmusk #Think about buying a country , #Mex...       0   \n",
       "3  2022-07-11  @get_innocuous Actual receipts, and yet you ha...       0   \n",
       "4  2022-07-11  Tesla wall battery for the save! Power went ou...       0   \n",
       "\n",
       "   nreplies  \n",
       "0         0  \n",
       "1         0  \n",
       "2         0  \n",
       "3         0  \n",
       "4         0  "
      ]
     },
     "execution_count": 31,
     "metadata": {},
     "output_type": "execute_result"
    }
   ],
   "source": [
    "twitts.head()"
   ]
  },
  {
   "cell_type": "code",
   "execution_count": 32,
   "id": "77557e0a",
   "metadata": {},
   "outputs": [],
   "source": [
    "def remove_tags_from_tweets(tweet):\n",
    "    result = ''\n",
    "    tweet_component = tweet.split(' ')\n",
    "    \n",
    "    for comp in tweet_component:\n",
    "        if len(comp) == 0:\n",
    "            continue\n",
    "            \n",
    "        if comp[0] == '@':\n",
    "            continue\n",
    "        else:\n",
    "            result = result + ' ' + comp\n",
    "    return result"
   ]
  },
  {
   "cell_type": "code",
   "execution_count": 33,
   "id": "8ccd0f79",
   "metadata": {},
   "outputs": [],
   "source": [
    "twitts[\"tweet\"] = twitts[\"tweet\"].apply(remove_tags_from_tweets)"
   ]
  },
  {
   "cell_type": "code",
   "execution_count": 34,
   "id": "d9614579",
   "metadata": {},
   "outputs": [
    {
     "data": {
      "text/html": [
       "<div>\n",
       "<style scoped>\n",
       "    .dataframe tbody tr th:only-of-type {\n",
       "        vertical-align: middle;\n",
       "    }\n",
       "\n",
       "    .dataframe tbody tr th {\n",
       "        vertical-align: top;\n",
       "    }\n",
       "\n",
       "    .dataframe thead th {\n",
       "        text-align: right;\n",
       "    }\n",
       "</style>\n",
       "<table border=\"1\" class=\"dataframe\">\n",
       "  <thead>\n",
       "    <tr style=\"text-align: right;\">\n",
       "      <th></th>\n",
       "      <th>date</th>\n",
       "      <th>tweet</th>\n",
       "      <th>nlikes</th>\n",
       "      <th>nreplies</th>\n",
       "    </tr>\n",
       "  </thead>\n",
       "  <tbody>\n",
       "    <tr>\n",
       "      <th>0</th>\n",
       "      <td>2022-07-11</td>\n",
       "      <td>I have six. 4 of them still live at home bein...</td>\n",
       "      <td>0</td>\n",
       "      <td>0</td>\n",
       "    </tr>\n",
       "    <tr>\n",
       "      <th>1</th>\n",
       "      <td>2022-07-11</td>\n",
       "      <td>Then go for your dozen kids… you are just mis...</td>\n",
       "      <td>0</td>\n",
       "      <td>0</td>\n",
       "    </tr>\n",
       "    <tr>\n",
       "      <th>2</th>\n",
       "      <td>2022-07-11</td>\n",
       "      <td>#Think about buying a country , #Mexico ? You...</td>\n",
       "      <td>0</td>\n",
       "      <td>0</td>\n",
       "    </tr>\n",
       "    <tr>\n",
       "      <th>3</th>\n",
       "      <td>2022-07-11</td>\n",
       "      <td>Actual receipts, and yet you haven’t asked an...</td>\n",
       "      <td>0</td>\n",
       "      <td>0</td>\n",
       "    </tr>\n",
       "    <tr>\n",
       "      <th>4</th>\n",
       "      <td>2022-07-11</td>\n",
       "      <td>Tesla wall battery for the save! Power went o...</td>\n",
       "      <td>0</td>\n",
       "      <td>0</td>\n",
       "    </tr>\n",
       "  </tbody>\n",
       "</table>\n",
       "</div>"
      ],
      "text/plain": [
       "         date                                              tweet  nlikes  \\\n",
       "0  2022-07-11   I have six. 4 of them still live at home bein...       0   \n",
       "1  2022-07-11   Then go for your dozen kids… you are just mis...       0   \n",
       "2  2022-07-11   #Think about buying a country , #Mexico ? You...       0   \n",
       "3  2022-07-11   Actual receipts, and yet you haven’t asked an...       0   \n",
       "4  2022-07-11   Tesla wall battery for the save! Power went o...       0   \n",
       "\n",
       "   nreplies  \n",
       "0         0  \n",
       "1         0  \n",
       "2         0  \n",
       "3         0  \n",
       "4         0  "
      ]
     },
     "execution_count": 34,
     "metadata": {},
     "output_type": "execute_result"
    }
   ],
   "source": [
    "twitts.head()"
   ]
  },
  {
   "cell_type": "code",
   "execution_count": 49,
   "id": "a4cf0c1f",
   "metadata": {},
   "outputs": [],
   "source": [
    "tweet = twitts[[\"date\", \"tweet\"]]\n",
    "tweet.columns = [\"date\", \"news\"]"
   ]
  },
  {
   "cell_type": "code",
   "execution_count": 51,
   "id": "a241d4d9",
   "metadata": {},
   "outputs": [
    {
     "data": {
      "text/html": [
       "<div>\n",
       "<style scoped>\n",
       "    .dataframe tbody tr th:only-of-type {\n",
       "        vertical-align: middle;\n",
       "    }\n",
       "\n",
       "    .dataframe tbody tr th {\n",
       "        vertical-align: top;\n",
       "    }\n",
       "\n",
       "    .dataframe thead th {\n",
       "        text-align: right;\n",
       "    }\n",
       "</style>\n",
       "<table border=\"1\" class=\"dataframe\">\n",
       "  <thead>\n",
       "    <tr style=\"text-align: right;\">\n",
       "      <th></th>\n",
       "      <th>date</th>\n",
       "      <th>news</th>\n",
       "    </tr>\n",
       "  </thead>\n",
       "  <tbody>\n",
       "    <tr>\n",
       "      <th>0</th>\n",
       "      <td>2022-07-11</td>\n",
       "      <td>I have six. 4 of them still live at home bein...</td>\n",
       "    </tr>\n",
       "    <tr>\n",
       "      <th>1</th>\n",
       "      <td>2022-07-11</td>\n",
       "      <td>Then go for your dozen kids… you are just mis...</td>\n",
       "    </tr>\n",
       "    <tr>\n",
       "      <th>2</th>\n",
       "      <td>2022-07-11</td>\n",
       "      <td>#Think about buying a country , #Mexico ? You...</td>\n",
       "    </tr>\n",
       "    <tr>\n",
       "      <th>3</th>\n",
       "      <td>2022-07-11</td>\n",
       "      <td>Actual receipts, and yet you haven’t asked an...</td>\n",
       "    </tr>\n",
       "    <tr>\n",
       "      <th>4</th>\n",
       "      <td>2022-07-11</td>\n",
       "      <td>Tesla wall battery for the save! Power went o...</td>\n",
       "    </tr>\n",
       "  </tbody>\n",
       "</table>\n",
       "</div>"
      ],
      "text/plain": [
       "         date                                               news\n",
       "0  2022-07-11   I have six. 4 of them still live at home bein...\n",
       "1  2022-07-11   Then go for your dozen kids… you are just mis...\n",
       "2  2022-07-11   #Think about buying a country , #Mexico ? You...\n",
       "3  2022-07-11   Actual receipts, and yet you haven’t asked an...\n",
       "4  2022-07-11   Tesla wall battery for the save! Power went o..."
      ]
     },
     "execution_count": 51,
     "metadata": {},
     "output_type": "execute_result"
    }
   ],
   "source": [
    "tweet.head()"
   ]
  },
  {
   "cell_type": "code",
   "execution_count": 52,
   "id": "863d1f8b",
   "metadata": {},
   "outputs": [
    {
     "name": "stdout",
     "output_type": "stream",
     "text": [
      "<class 'pandas.core.frame.DataFrame'>\n",
      "Int64Index: 7358 entries, 0 to 10015\n",
      "Data columns (total 2 columns):\n",
      " #   Column  Non-Null Count  Dtype \n",
      "---  ------  --------------  ----- \n",
      " 0   date    7358 non-null   object\n",
      " 1   news    7358 non-null   object\n",
      "dtypes: object(2)\n",
      "memory usage: 172.5+ KB\n"
     ]
    }
   ],
   "source": [
    "tweet.info()"
   ]
  },
  {
   "cell_type": "code",
   "execution_count": 53,
   "id": "1a307caf",
   "metadata": {},
   "outputs": [],
   "source": [
    "df = pd.concat([newYorkTime_news, bbc_news, tweet])"
   ]
  },
  {
   "cell_type": "code",
   "execution_count": 54,
   "id": "5e561a04",
   "metadata": {},
   "outputs": [
    {
     "data": {
      "text/html": [
       "<div>\n",
       "<style scoped>\n",
       "    .dataframe tbody tr th:only-of-type {\n",
       "        vertical-align: middle;\n",
       "    }\n",
       "\n",
       "    .dataframe tbody tr th {\n",
       "        vertical-align: top;\n",
       "    }\n",
       "\n",
       "    .dataframe thead th {\n",
       "        text-align: right;\n",
       "    }\n",
       "</style>\n",
       "<table border=\"1\" class=\"dataframe\">\n",
       "  <thead>\n",
       "    <tr style=\"text-align: right;\">\n",
       "      <th></th>\n",
       "      <th>date</th>\n",
       "      <th>news</th>\n",
       "    </tr>\n",
       "  </thead>\n",
       "  <tbody>\n",
       "    <tr>\n",
       "      <th>0</th>\n",
       "      <td>2017-01-02</td>\n",
       "      <td>The company says it has determined the likely ...</td>\n",
       "    </tr>\n",
       "    <tr>\n",
       "      <th>1</th>\n",
       "      <td>2017-01-14</td>\n",
       "      <td>The return to business for Elon Musk’s company...</td>\n",
       "    </tr>\n",
       "    <tr>\n",
       "      <th>2</th>\n",
       "      <td>2017-01-20</td>\n",
       "      <td>The highway agency found that while Tesla’s Au...</td>\n",
       "    </tr>\n",
       "    <tr>\n",
       "      <th>3</th>\n",
       "      <td>2017-01-26</td>\n",
       "      <td>Electric vehicles offer a new chance to Chines...</td>\n",
       "    </tr>\n",
       "    <tr>\n",
       "      <th>4</th>\n",
       "      <td>2017-01-26</td>\n",
       "      <td>The political tide might seem unfavorable for ...</td>\n",
       "    </tr>\n",
       "  </tbody>\n",
       "</table>\n",
       "</div>"
      ],
      "text/plain": [
       "         date                                               news\n",
       "0  2017-01-02  The company says it has determined the likely ...\n",
       "1  2017-01-14  The return to business for Elon Musk’s company...\n",
       "2  2017-01-20  The highway agency found that while Tesla’s Au...\n",
       "3  2017-01-26  Electric vehicles offer a new chance to Chines...\n",
       "4  2017-01-26  The political tide might seem unfavorable for ..."
      ]
     },
     "execution_count": 54,
     "metadata": {},
     "output_type": "execute_result"
    }
   ],
   "source": [
    "df.head()"
   ]
  },
  {
   "cell_type": "code",
   "execution_count": 56,
   "id": "01725fd1",
   "metadata": {},
   "outputs": [
    {
     "name": "stdout",
     "output_type": "stream",
     "text": [
      "<class 'pandas.core.frame.DataFrame'>\n",
      "Int64Index: 8609 entries, 0 to 10015\n",
      "Data columns (total 2 columns):\n",
      " #   Column  Non-Null Count  Dtype \n",
      "---  ------  --------------  ----- \n",
      " 0   date    8609 non-null   object\n",
      " 1   news    8609 non-null   object\n",
      "dtypes: object(2)\n",
      "memory usage: 201.8+ KB\n"
     ]
    }
   ],
   "source": [
    "df.info()"
   ]
  },
  {
   "cell_type": "code",
   "execution_count": 168,
   "id": "fef74328",
   "metadata": {},
   "outputs": [
    {
     "ename": "PermissionError",
     "evalue": "[Errno 13] Permission denied: 'C:\\\\Users\\\\moham\\\\OneDrive\\\\Desktop\\\\Unternehmenssoftware\\\\data.csv'",
     "output_type": "error",
     "traceback": [
      "\u001b[1;31m---------------------------------------------------------------------------\u001b[0m",
      "\u001b[1;31mPermissionError\u001b[0m                           Traceback (most recent call last)",
      "Input \u001b[1;32mIn [168]\u001b[0m, in \u001b[0;36m<cell line: 1>\u001b[1;34m()\u001b[0m\n\u001b[1;32m----> 1\u001b[0m \u001b[43mdf\u001b[49m\u001b[38;5;241;43m.\u001b[39;49m\u001b[43mto_csv\u001b[49m\u001b[43m(\u001b[49m\u001b[38;5;124;43mr\u001b[39;49m\u001b[38;5;124;43m\"\u001b[39;49m\u001b[38;5;124;43mC:\u001b[39;49m\u001b[38;5;124;43m\\\u001b[39;49m\u001b[38;5;124;43mUsers\u001b[39;49m\u001b[38;5;124;43m\\\u001b[39;49m\u001b[38;5;124;43mmoham\u001b[39;49m\u001b[38;5;124;43m\\\u001b[39;49m\u001b[38;5;124;43mOneDrive\u001b[39;49m\u001b[38;5;124;43m\\\u001b[39;49m\u001b[38;5;124;43mDesktop\u001b[39;49m\u001b[38;5;124;43m\\\u001b[39;49m\u001b[38;5;124;43mUnternehmenssoftware\u001b[39;49m\u001b[38;5;124;43m\\\u001b[39;49m\u001b[38;5;124;43mdata.csv\u001b[39;49m\u001b[38;5;124;43m\"\u001b[39;49m\u001b[43m,\u001b[49m\u001b[43m \u001b[49m\u001b[43msep\u001b[49m\u001b[38;5;241;43m=\u001b[39;49m\u001b[38;5;124;43m\"\u001b[39;49m\u001b[38;5;124;43m,\u001b[39;49m\u001b[38;5;124;43m\"\u001b[39;49m\u001b[43m)\u001b[49m\n",
      "File \u001b[1;32m~\\AppData\\Roaming\\Python\\Python310\\site-packages\\pandas\\core\\generic.py:3551\u001b[0m, in \u001b[0;36mNDFrame.to_csv\u001b[1;34m(self, path_or_buf, sep, na_rep, float_format, columns, header, index, index_label, mode, encoding, compression, quoting, quotechar, line_terminator, chunksize, date_format, doublequote, escapechar, decimal, errors, storage_options)\u001b[0m\n\u001b[0;32m   3540\u001b[0m df \u001b[38;5;241m=\u001b[39m \u001b[38;5;28mself\u001b[39m \u001b[38;5;28;01mif\u001b[39;00m \u001b[38;5;28misinstance\u001b[39m(\u001b[38;5;28mself\u001b[39m, ABCDataFrame) \u001b[38;5;28;01melse\u001b[39;00m \u001b[38;5;28mself\u001b[39m\u001b[38;5;241m.\u001b[39mto_frame()\n\u001b[0;32m   3542\u001b[0m formatter \u001b[38;5;241m=\u001b[39m DataFrameFormatter(\n\u001b[0;32m   3543\u001b[0m     frame\u001b[38;5;241m=\u001b[39mdf,\n\u001b[0;32m   3544\u001b[0m     header\u001b[38;5;241m=\u001b[39mheader,\n\u001b[1;32m   (...)\u001b[0m\n\u001b[0;32m   3548\u001b[0m     decimal\u001b[38;5;241m=\u001b[39mdecimal,\n\u001b[0;32m   3549\u001b[0m )\n\u001b[1;32m-> 3551\u001b[0m \u001b[38;5;28;01mreturn\u001b[39;00m \u001b[43mDataFrameRenderer\u001b[49m\u001b[43m(\u001b[49m\u001b[43mformatter\u001b[49m\u001b[43m)\u001b[49m\u001b[38;5;241;43m.\u001b[39;49m\u001b[43mto_csv\u001b[49m\u001b[43m(\u001b[49m\n\u001b[0;32m   3552\u001b[0m \u001b[43m    \u001b[49m\u001b[43mpath_or_buf\u001b[49m\u001b[43m,\u001b[49m\n\u001b[0;32m   3553\u001b[0m \u001b[43m    \u001b[49m\u001b[43mline_terminator\u001b[49m\u001b[38;5;241;43m=\u001b[39;49m\u001b[43mline_terminator\u001b[49m\u001b[43m,\u001b[49m\n\u001b[0;32m   3554\u001b[0m \u001b[43m    \u001b[49m\u001b[43msep\u001b[49m\u001b[38;5;241;43m=\u001b[39;49m\u001b[43msep\u001b[49m\u001b[43m,\u001b[49m\n\u001b[0;32m   3555\u001b[0m \u001b[43m    \u001b[49m\u001b[43mencoding\u001b[49m\u001b[38;5;241;43m=\u001b[39;49m\u001b[43mencoding\u001b[49m\u001b[43m,\u001b[49m\n\u001b[0;32m   3556\u001b[0m \u001b[43m    \u001b[49m\u001b[43merrors\u001b[49m\u001b[38;5;241;43m=\u001b[39;49m\u001b[43merrors\u001b[49m\u001b[43m,\u001b[49m\n\u001b[0;32m   3557\u001b[0m \u001b[43m    \u001b[49m\u001b[43mcompression\u001b[49m\u001b[38;5;241;43m=\u001b[39;49m\u001b[43mcompression\u001b[49m\u001b[43m,\u001b[49m\n\u001b[0;32m   3558\u001b[0m \u001b[43m    \u001b[49m\u001b[43mquoting\u001b[49m\u001b[38;5;241;43m=\u001b[39;49m\u001b[43mquoting\u001b[49m\u001b[43m,\u001b[49m\n\u001b[0;32m   3559\u001b[0m \u001b[43m    \u001b[49m\u001b[43mcolumns\u001b[49m\u001b[38;5;241;43m=\u001b[39;49m\u001b[43mcolumns\u001b[49m\u001b[43m,\u001b[49m\n\u001b[0;32m   3560\u001b[0m \u001b[43m    \u001b[49m\u001b[43mindex_label\u001b[49m\u001b[38;5;241;43m=\u001b[39;49m\u001b[43mindex_label\u001b[49m\u001b[43m,\u001b[49m\n\u001b[0;32m   3561\u001b[0m \u001b[43m    \u001b[49m\u001b[43mmode\u001b[49m\u001b[38;5;241;43m=\u001b[39;49m\u001b[43mmode\u001b[49m\u001b[43m,\u001b[49m\n\u001b[0;32m   3562\u001b[0m \u001b[43m    \u001b[49m\u001b[43mchunksize\u001b[49m\u001b[38;5;241;43m=\u001b[39;49m\u001b[43mchunksize\u001b[49m\u001b[43m,\u001b[49m\n\u001b[0;32m   3563\u001b[0m \u001b[43m    \u001b[49m\u001b[43mquotechar\u001b[49m\u001b[38;5;241;43m=\u001b[39;49m\u001b[43mquotechar\u001b[49m\u001b[43m,\u001b[49m\n\u001b[0;32m   3564\u001b[0m \u001b[43m    \u001b[49m\u001b[43mdate_format\u001b[49m\u001b[38;5;241;43m=\u001b[39;49m\u001b[43mdate_format\u001b[49m\u001b[43m,\u001b[49m\n\u001b[0;32m   3565\u001b[0m \u001b[43m    \u001b[49m\u001b[43mdoublequote\u001b[49m\u001b[38;5;241;43m=\u001b[39;49m\u001b[43mdoublequote\u001b[49m\u001b[43m,\u001b[49m\n\u001b[0;32m   3566\u001b[0m \u001b[43m    \u001b[49m\u001b[43mescapechar\u001b[49m\u001b[38;5;241;43m=\u001b[39;49m\u001b[43mescapechar\u001b[49m\u001b[43m,\u001b[49m\n\u001b[0;32m   3567\u001b[0m \u001b[43m    \u001b[49m\u001b[43mstorage_options\u001b[49m\u001b[38;5;241;43m=\u001b[39;49m\u001b[43mstorage_options\u001b[49m\u001b[43m,\u001b[49m\n\u001b[0;32m   3568\u001b[0m \u001b[43m\u001b[49m\u001b[43m)\u001b[49m\n",
      "File \u001b[1;32m~\\AppData\\Roaming\\Python\\Python310\\site-packages\\pandas\\io\\formats\\format.py:1180\u001b[0m, in \u001b[0;36mDataFrameRenderer.to_csv\u001b[1;34m(self, path_or_buf, encoding, sep, columns, index_label, mode, compression, quoting, quotechar, line_terminator, chunksize, date_format, doublequote, escapechar, errors, storage_options)\u001b[0m\n\u001b[0;32m   1159\u001b[0m     created_buffer \u001b[38;5;241m=\u001b[39m \u001b[38;5;28;01mFalse\u001b[39;00m\n\u001b[0;32m   1161\u001b[0m csv_formatter \u001b[38;5;241m=\u001b[39m CSVFormatter(\n\u001b[0;32m   1162\u001b[0m     path_or_buf\u001b[38;5;241m=\u001b[39mpath_or_buf,\n\u001b[0;32m   1163\u001b[0m     line_terminator\u001b[38;5;241m=\u001b[39mline_terminator,\n\u001b[1;32m   (...)\u001b[0m\n\u001b[0;32m   1178\u001b[0m     formatter\u001b[38;5;241m=\u001b[39m\u001b[38;5;28mself\u001b[39m\u001b[38;5;241m.\u001b[39mfmt,\n\u001b[0;32m   1179\u001b[0m )\n\u001b[1;32m-> 1180\u001b[0m \u001b[43mcsv_formatter\u001b[49m\u001b[38;5;241;43m.\u001b[39;49m\u001b[43msave\u001b[49m\u001b[43m(\u001b[49m\u001b[43m)\u001b[49m\n\u001b[0;32m   1182\u001b[0m \u001b[38;5;28;01mif\u001b[39;00m created_buffer:\n\u001b[0;32m   1183\u001b[0m     \u001b[38;5;28;01massert\u001b[39;00m \u001b[38;5;28misinstance\u001b[39m(path_or_buf, StringIO)\n",
      "File \u001b[1;32m~\\AppData\\Roaming\\Python\\Python310\\site-packages\\pandas\\io\\formats\\csvs.py:241\u001b[0m, in \u001b[0;36mCSVFormatter.save\u001b[1;34m(self)\u001b[0m\n\u001b[0;32m    237\u001b[0m \u001b[38;5;124;03m\"\"\"\u001b[39;00m\n\u001b[0;32m    238\u001b[0m \u001b[38;5;124;03mCreate the writer & save.\u001b[39;00m\n\u001b[0;32m    239\u001b[0m \u001b[38;5;124;03m\"\"\"\u001b[39;00m\n\u001b[0;32m    240\u001b[0m \u001b[38;5;66;03m# apply compression and byte/text conversion\u001b[39;00m\n\u001b[1;32m--> 241\u001b[0m \u001b[38;5;28;01mwith\u001b[39;00m \u001b[43mget_handle\u001b[49m\u001b[43m(\u001b[49m\n\u001b[0;32m    242\u001b[0m \u001b[43m    \u001b[49m\u001b[38;5;28;43mself\u001b[39;49m\u001b[38;5;241;43m.\u001b[39;49m\u001b[43mfilepath_or_buffer\u001b[49m\u001b[43m,\u001b[49m\n\u001b[0;32m    243\u001b[0m \u001b[43m    \u001b[49m\u001b[38;5;28;43mself\u001b[39;49m\u001b[38;5;241;43m.\u001b[39;49m\u001b[43mmode\u001b[49m\u001b[43m,\u001b[49m\n\u001b[0;32m    244\u001b[0m \u001b[43m    \u001b[49m\u001b[43mencoding\u001b[49m\u001b[38;5;241;43m=\u001b[39;49m\u001b[38;5;28;43mself\u001b[39;49m\u001b[38;5;241;43m.\u001b[39;49m\u001b[43mencoding\u001b[49m\u001b[43m,\u001b[49m\n\u001b[0;32m    245\u001b[0m \u001b[43m    \u001b[49m\u001b[43merrors\u001b[49m\u001b[38;5;241;43m=\u001b[39;49m\u001b[38;5;28;43mself\u001b[39;49m\u001b[38;5;241;43m.\u001b[39;49m\u001b[43merrors\u001b[49m\u001b[43m,\u001b[49m\n\u001b[0;32m    246\u001b[0m \u001b[43m    \u001b[49m\u001b[43mcompression\u001b[49m\u001b[38;5;241;43m=\u001b[39;49m\u001b[38;5;28;43mself\u001b[39;49m\u001b[38;5;241;43m.\u001b[39;49m\u001b[43mcompression\u001b[49m\u001b[43m,\u001b[49m\n\u001b[0;32m    247\u001b[0m \u001b[43m    \u001b[49m\u001b[43mstorage_options\u001b[49m\u001b[38;5;241;43m=\u001b[39;49m\u001b[38;5;28;43mself\u001b[39;49m\u001b[38;5;241;43m.\u001b[39;49m\u001b[43mstorage_options\u001b[49m\u001b[43m,\u001b[49m\n\u001b[0;32m    248\u001b[0m \u001b[43m\u001b[49m\u001b[43m)\u001b[49m \u001b[38;5;28;01mas\u001b[39;00m handles:\n\u001b[0;32m    249\u001b[0m \n\u001b[0;32m    250\u001b[0m     \u001b[38;5;66;03m# Note: self.encoding is irrelevant here\u001b[39;00m\n\u001b[0;32m    251\u001b[0m     \u001b[38;5;28mself\u001b[39m\u001b[38;5;241m.\u001b[39mwriter \u001b[38;5;241m=\u001b[39m csvlib\u001b[38;5;241m.\u001b[39mwriter(\n\u001b[0;32m    252\u001b[0m         handles\u001b[38;5;241m.\u001b[39mhandle,\n\u001b[0;32m    253\u001b[0m         lineterminator\u001b[38;5;241m=\u001b[39m\u001b[38;5;28mself\u001b[39m\u001b[38;5;241m.\u001b[39mline_terminator,\n\u001b[1;32m   (...)\u001b[0m\n\u001b[0;32m    258\u001b[0m         quotechar\u001b[38;5;241m=\u001b[39m\u001b[38;5;28mself\u001b[39m\u001b[38;5;241m.\u001b[39mquotechar,\n\u001b[0;32m    259\u001b[0m     )\n\u001b[0;32m    261\u001b[0m     \u001b[38;5;28mself\u001b[39m\u001b[38;5;241m.\u001b[39m_save()\n",
      "File \u001b[1;32m~\\AppData\\Roaming\\Python\\Python310\\site-packages\\pandas\\io\\common.py:789\u001b[0m, in \u001b[0;36mget_handle\u001b[1;34m(path_or_buf, mode, encoding, compression, memory_map, is_text, errors, storage_options)\u001b[0m\n\u001b[0;32m    784\u001b[0m \u001b[38;5;28;01melif\u001b[39;00m \u001b[38;5;28misinstance\u001b[39m(handle, \u001b[38;5;28mstr\u001b[39m):\n\u001b[0;32m    785\u001b[0m     \u001b[38;5;66;03m# Check whether the filename is to be opened in binary mode.\u001b[39;00m\n\u001b[0;32m    786\u001b[0m     \u001b[38;5;66;03m# Binary mode does not support 'encoding' and 'newline'.\u001b[39;00m\n\u001b[0;32m    787\u001b[0m     \u001b[38;5;28;01mif\u001b[39;00m ioargs\u001b[38;5;241m.\u001b[39mencoding \u001b[38;5;129;01mand\u001b[39;00m \u001b[38;5;124m\"\u001b[39m\u001b[38;5;124mb\u001b[39m\u001b[38;5;124m\"\u001b[39m \u001b[38;5;129;01mnot\u001b[39;00m \u001b[38;5;129;01min\u001b[39;00m ioargs\u001b[38;5;241m.\u001b[39mmode:\n\u001b[0;32m    788\u001b[0m         \u001b[38;5;66;03m# Encoding\u001b[39;00m\n\u001b[1;32m--> 789\u001b[0m         handle \u001b[38;5;241m=\u001b[39m \u001b[38;5;28;43mopen\u001b[39;49m\u001b[43m(\u001b[49m\n\u001b[0;32m    790\u001b[0m \u001b[43m            \u001b[49m\u001b[43mhandle\u001b[49m\u001b[43m,\u001b[49m\n\u001b[0;32m    791\u001b[0m \u001b[43m            \u001b[49m\u001b[43mioargs\u001b[49m\u001b[38;5;241;43m.\u001b[39;49m\u001b[43mmode\u001b[49m\u001b[43m,\u001b[49m\n\u001b[0;32m    792\u001b[0m \u001b[43m            \u001b[49m\u001b[43mencoding\u001b[49m\u001b[38;5;241;43m=\u001b[39;49m\u001b[43mioargs\u001b[49m\u001b[38;5;241;43m.\u001b[39;49m\u001b[43mencoding\u001b[49m\u001b[43m,\u001b[49m\n\u001b[0;32m    793\u001b[0m \u001b[43m            \u001b[49m\u001b[43merrors\u001b[49m\u001b[38;5;241;43m=\u001b[39;49m\u001b[43merrors\u001b[49m\u001b[43m,\u001b[49m\n\u001b[0;32m    794\u001b[0m \u001b[43m            \u001b[49m\u001b[43mnewline\u001b[49m\u001b[38;5;241;43m=\u001b[39;49m\u001b[38;5;124;43m\"\u001b[39;49m\u001b[38;5;124;43m\"\u001b[39;49m\u001b[43m,\u001b[49m\n\u001b[0;32m    795\u001b[0m \u001b[43m        \u001b[49m\u001b[43m)\u001b[49m\n\u001b[0;32m    796\u001b[0m     \u001b[38;5;28;01melse\u001b[39;00m:\n\u001b[0;32m    797\u001b[0m         \u001b[38;5;66;03m# Binary mode\u001b[39;00m\n\u001b[0;32m    798\u001b[0m         handle \u001b[38;5;241m=\u001b[39m \u001b[38;5;28mopen\u001b[39m(handle, ioargs\u001b[38;5;241m.\u001b[39mmode)\n",
      "\u001b[1;31mPermissionError\u001b[0m: [Errno 13] Permission denied: 'C:\\\\Users\\\\moham\\\\OneDrive\\\\Desktop\\\\Unternehmenssoftware\\\\data.csv'"
     ]
    }
   ],
   "source": [
    "df.to_csv(r\"C:\\Users\\moham\\OneDrive\\Desktop\\Unternehmenssoftware\\data.csv\", sep=\",\")"
   ]
  },
  {
   "cell_type": "code",
   "execution_count": 199,
   "id": "ac203f4e",
   "metadata": {},
   "outputs": [],
   "source": [
    "tesla_stock_prices = pd.read_csv(\"TSLA.csv\", sep=\",\")"
   ]
  },
  {
   "cell_type": "code",
   "execution_count": 200,
   "id": "5c8cb499",
   "metadata": {},
   "outputs": [
    {
     "data": {
      "text/html": [
       "<div>\n",
       "<style scoped>\n",
       "    .dataframe tbody tr th:only-of-type {\n",
       "        vertical-align: middle;\n",
       "    }\n",
       "\n",
       "    .dataframe tbody tr th {\n",
       "        vertical-align: top;\n",
       "    }\n",
       "\n",
       "    .dataframe thead th {\n",
       "        text-align: right;\n",
       "    }\n",
       "</style>\n",
       "<table border=\"1\" class=\"dataframe\">\n",
       "  <thead>\n",
       "    <tr style=\"text-align: right;\">\n",
       "      <th></th>\n",
       "      <th>Date</th>\n",
       "      <th>Open</th>\n",
       "      <th>High</th>\n",
       "      <th>Low</th>\n",
       "      <th>Close</th>\n",
       "      <th>Adj Close</th>\n",
       "      <th>Volume</th>\n",
       "    </tr>\n",
       "  </thead>\n",
       "  <tbody>\n",
       "    <tr>\n",
       "      <th>0</th>\n",
       "      <td>2017-09-18</td>\n",
       "      <td>25.350000</td>\n",
       "      <td>25.974001</td>\n",
       "      <td>25.178667</td>\n",
       "      <td>25.666668</td>\n",
       "      <td>25.666668</td>\n",
       "      <td>107820000</td>\n",
       "    </tr>\n",
       "    <tr>\n",
       "      <th>1</th>\n",
       "      <td>2017-09-19</td>\n",
       "      <td>25.333332</td>\n",
       "      <td>25.492666</td>\n",
       "      <td>24.904667</td>\n",
       "      <td>25.006666</td>\n",
       "      <td>25.006666</td>\n",
       "      <td>96778500</td>\n",
       "    </tr>\n",
       "    <tr>\n",
       "      <th>2</th>\n",
       "      <td>2017-09-20</td>\n",
       "      <td>24.866667</td>\n",
       "      <td>25.216667</td>\n",
       "      <td>24.738001</td>\n",
       "      <td>24.927334</td>\n",
       "      <td>24.927334</td>\n",
       "      <td>73786500</td>\n",
       "    </tr>\n",
       "    <tr>\n",
       "      <th>3</th>\n",
       "      <td>2017-09-21</td>\n",
       "      <td>24.993334</td>\n",
       "      <td>25.122000</td>\n",
       "      <td>24.300667</td>\n",
       "      <td>24.431999</td>\n",
       "      <td>24.431999</td>\n",
       "      <td>69273000</td>\n",
       "    </tr>\n",
       "    <tr>\n",
       "      <th>4</th>\n",
       "      <td>2017-09-22</td>\n",
       "      <td>24.432667</td>\n",
       "      <td>24.660000</td>\n",
       "      <td>23.392000</td>\n",
       "      <td>23.406000</td>\n",
       "      <td>23.406000</td>\n",
       "      <td>122391000</td>\n",
       "    </tr>\n",
       "  </tbody>\n",
       "</table>\n",
       "</div>"
      ],
      "text/plain": [
       "         Date       Open       High        Low      Close  Adj Close  \\\n",
       "0  2017-09-18  25.350000  25.974001  25.178667  25.666668  25.666668   \n",
       "1  2017-09-19  25.333332  25.492666  24.904667  25.006666  25.006666   \n",
       "2  2017-09-20  24.866667  25.216667  24.738001  24.927334  24.927334   \n",
       "3  2017-09-21  24.993334  25.122000  24.300667  24.431999  24.431999   \n",
       "4  2017-09-22  24.432667  24.660000  23.392000  23.406000  23.406000   \n",
       "\n",
       "      Volume  \n",
       "0  107820000  \n",
       "1   96778500  \n",
       "2   73786500  \n",
       "3   69273000  \n",
       "4  122391000  "
      ]
     },
     "execution_count": 200,
     "metadata": {},
     "output_type": "execute_result"
    }
   ],
   "source": [
    "tesla_stock_prices.head()"
   ]
  },
  {
   "cell_type": "code",
   "execution_count": 201,
   "id": "93693847",
   "metadata": {},
   "outputs": [
    {
     "name": "stdout",
     "output_type": "stream",
     "text": [
      "<class 'pandas.core.frame.DataFrame'>\n",
      "RangeIndex: 1259 entries, 0 to 1258\n",
      "Data columns (total 7 columns):\n",
      " #   Column     Non-Null Count  Dtype  \n",
      "---  ------     --------------  -----  \n",
      " 0   Date       1259 non-null   object \n",
      " 1   Open       1259 non-null   float64\n",
      " 2   High       1259 non-null   float64\n",
      " 3   Low        1259 non-null   float64\n",
      " 4   Close      1259 non-null   float64\n",
      " 5   Adj Close  1259 non-null   float64\n",
      " 6   Volume     1259 non-null   int64  \n",
      "dtypes: float64(5), int64(1), object(1)\n",
      "memory usage: 69.0+ KB\n"
     ]
    }
   ],
   "source": [
    "tesla_stock_prices.info()"
   ]
  },
  {
   "cell_type": "code",
   "execution_count": 202,
   "id": "e84b7006",
   "metadata": {},
   "outputs": [
    {
     "data": {
      "text/html": [
       "<div>\n",
       "<style scoped>\n",
       "    .dataframe tbody tr th:only-of-type {\n",
       "        vertical-align: middle;\n",
       "    }\n",
       "\n",
       "    .dataframe tbody tr th {\n",
       "        vertical-align: top;\n",
       "    }\n",
       "\n",
       "    .dataframe thead th {\n",
       "        text-align: right;\n",
       "    }\n",
       "</style>\n",
       "<table border=\"1\" class=\"dataframe\">\n",
       "  <thead>\n",
       "    <tr style=\"text-align: right;\">\n",
       "      <th></th>\n",
       "      <th>date</th>\n",
       "      <th>news</th>\n",
       "      <th>open</th>\n",
       "    </tr>\n",
       "  </thead>\n",
       "  <tbody>\n",
       "    <tr>\n",
       "      <th>0</th>\n",
       "      <td>2022-07-11</td>\n",
       "      <td>I have six. 4 of them still live at home bein...</td>\n",
       "      <td>252.103333</td>\n",
       "    </tr>\n",
       "    <tr>\n",
       "      <th>1</th>\n",
       "      <td>2022-07-11</td>\n",
       "      <td>Then go for your dozen kids… you are just mis...</td>\n",
       "      <td>252.103333</td>\n",
       "    </tr>\n",
       "    <tr>\n",
       "      <th>2</th>\n",
       "      <td>2022-07-11</td>\n",
       "      <td>#Think about buying a country , #Mexico ? You...</td>\n",
       "      <td>252.103333</td>\n",
       "    </tr>\n",
       "    <tr>\n",
       "      <th>3</th>\n",
       "      <td>2022-07-11</td>\n",
       "      <td>Actual receipts, and yet you haven’t asked an...</td>\n",
       "      <td>252.103333</td>\n",
       "    </tr>\n",
       "    <tr>\n",
       "      <th>4</th>\n",
       "      <td>2022-07-11</td>\n",
       "      <td>Tesla wall battery for the save! Power went o...</td>\n",
       "      <td>252.103333</td>\n",
       "    </tr>\n",
       "  </tbody>\n",
       "</table>\n",
       "</div>"
      ],
      "text/plain": [
       "         date                                               news        open\n",
       "0  2022-07-11   I have six. 4 of them still live at home bein...  252.103333\n",
       "1  2022-07-11   Then go for your dozen kids… you are just mis...  252.103333\n",
       "2  2022-07-11   #Think about buying a country , #Mexico ? You...  252.103333\n",
       "3  2022-07-11   Actual receipts, and yet you haven’t asked an...  252.103333\n",
       "4  2022-07-11   Tesla wall battery for the save! Power went o...  252.103333"
      ]
     },
     "execution_count": 202,
     "metadata": {},
     "output_type": "execute_result"
    }
   ],
   "source": [
    "tweet.columns = [\"date\", \"news\", \"open\"]\n",
    "tweet.head()\n",
    "#tweet[\"open\"] = tweet[\"date\"].apply(lambda x: tesla_stock_prices[tesla_stock_prices[\"Date\"] == x][\"Open\"])"
   ]
  },
  {
   "cell_type": "code",
   "execution_count": 203,
   "id": "cfb97356",
   "metadata": {},
   "outputs": [],
   "source": [
    "df[\"close\"] = df[\"date\"]"
   ]
  },
  {
   "cell_type": "code",
   "execution_count": 204,
   "id": "2fdc7dd8",
   "metadata": {},
   "outputs": [],
   "source": [
    "df[\"open\"] = df[\"date\"]\n",
    "df[\"volume\"] = df[\"date\"]"
   ]
  },
  {
   "cell_type": "code",
   "execution_count": 205,
   "id": "a4bdf2e5",
   "metadata": {},
   "outputs": [
    {
     "data": {
      "text/plain": [
       "Index(['date', 'news', 'close', 'open', 'volume'], dtype='object')"
      ]
     },
     "execution_count": 205,
     "metadata": {},
     "output_type": "execute_result"
    }
   ],
   "source": [
    "df.columns"
   ]
  },
  {
   "cell_type": "code",
   "execution_count": 206,
   "id": "4ccd1ec1",
   "metadata": {},
   "outputs": [
    {
     "data": {
      "text/html": [
       "<div>\n",
       "<style scoped>\n",
       "    .dataframe tbody tr th:only-of-type {\n",
       "        vertical-align: middle;\n",
       "    }\n",
       "\n",
       "    .dataframe tbody tr th {\n",
       "        vertical-align: top;\n",
       "    }\n",
       "\n",
       "    .dataframe thead th {\n",
       "        text-align: right;\n",
       "    }\n",
       "</style>\n",
       "<table border=\"1\" class=\"dataframe\">\n",
       "  <thead>\n",
       "    <tr style=\"text-align: right;\">\n",
       "      <th></th>\n",
       "      <th>date</th>\n",
       "      <th>news</th>\n",
       "      <th>close</th>\n",
       "      <th>open</th>\n",
       "      <th>volume</th>\n",
       "    </tr>\n",
       "  </thead>\n",
       "  <tbody>\n",
       "    <tr>\n",
       "      <th>0</th>\n",
       "      <td>2017-01-02</td>\n",
       "      <td>The company says it has determined the likely ...</td>\n",
       "      <td>2017-01-02</td>\n",
       "      <td>2017-01-02</td>\n",
       "      <td>2017-01-02</td>\n",
       "    </tr>\n",
       "    <tr>\n",
       "      <th>1</th>\n",
       "      <td>2017-01-14</td>\n",
       "      <td>The return to business for Elon Musk’s company...</td>\n",
       "      <td>2017-01-14</td>\n",
       "      <td>2017-01-14</td>\n",
       "      <td>2017-01-14</td>\n",
       "    </tr>\n",
       "    <tr>\n",
       "      <th>2</th>\n",
       "      <td>2017-01-20</td>\n",
       "      <td>The highway agency found that while Tesla’s Au...</td>\n",
       "      <td>2017-01-20</td>\n",
       "      <td>2017-01-20</td>\n",
       "      <td>2017-01-20</td>\n",
       "    </tr>\n",
       "    <tr>\n",
       "      <th>3</th>\n",
       "      <td>2017-01-26</td>\n",
       "      <td>Electric vehicles offer a new chance to Chines...</td>\n",
       "      <td>2017-01-26</td>\n",
       "      <td>2017-01-26</td>\n",
       "      <td>2017-01-26</td>\n",
       "    </tr>\n",
       "    <tr>\n",
       "      <th>4</th>\n",
       "      <td>2017-01-26</td>\n",
       "      <td>The political tide might seem unfavorable for ...</td>\n",
       "      <td>2017-01-26</td>\n",
       "      <td>2017-01-26</td>\n",
       "      <td>2017-01-26</td>\n",
       "    </tr>\n",
       "  </tbody>\n",
       "</table>\n",
       "</div>"
      ],
      "text/plain": [
       "         date                                               news       close  \\\n",
       "0  2017-01-02  The company says it has determined the likely ...  2017-01-02   \n",
       "1  2017-01-14  The return to business for Elon Musk’s company...  2017-01-14   \n",
       "2  2017-01-20  The highway agency found that while Tesla’s Au...  2017-01-20   \n",
       "3  2017-01-26  Electric vehicles offer a new chance to Chines...  2017-01-26   \n",
       "4  2017-01-26  The political tide might seem unfavorable for ...  2017-01-26   \n",
       "\n",
       "         open      volume  \n",
       "0  2017-01-02  2017-01-02  \n",
       "1  2017-01-14  2017-01-14  \n",
       "2  2017-01-20  2017-01-20  \n",
       "3  2017-01-26  2017-01-26  \n",
       "4  2017-01-26  2017-01-26  "
      ]
     },
     "execution_count": 206,
     "metadata": {},
     "output_type": "execute_result"
    }
   ],
   "source": [
    "df.head()"
   ]
  },
  {
   "cell_type": "code",
   "execution_count": 207,
   "id": "9f650fbf",
   "metadata": {},
   "outputs": [],
   "source": [
    "def merge_open_price(date):\n",
    "    if tesla_stock_prices[tesla_stock_prices[\"Date\"] == date].empty == True:\n",
    "        return 0 \n",
    "    else:\n",
    "        return tesla_stock_prices[tesla_stock_prices[\"Date\"] == date].iloc[0][\"Close\"]"
   ]
  },
  {
   "cell_type": "code",
   "execution_count": 208,
   "id": "ecffb8c6",
   "metadata": {},
   "outputs": [],
   "source": [
    "df[\"close\"] = df[\"close\"].apply(merge_open_price)"
   ]
  },
  {
   "cell_type": "code",
   "execution_count": 209,
   "id": "46804c71",
   "metadata": {},
   "outputs": [],
   "source": [
    "def merge_close_price(date):\n",
    "    date_format = \"%Y-%m-%d\"\n",
    "    a = datetime.datetime.strptime(date, date_format)\n",
    "    second_date = a + datetime.timedelta(days=1)\n",
    "    second_date = str(second_date).split(\" \")[0]\n",
    "    \n",
    "    if tesla_stock_prices[tesla_stock_prices[\"Date\"] == second_date].empty == True:\n",
    "        return 0 \n",
    "    else:\n",
    "        return tesla_stock_prices[tesla_stock_prices[\"Date\"] == second_date].iloc[0][\"Open\"]"
   ]
  },
  {
   "cell_type": "code",
   "execution_count": 210,
   "id": "1837ca76",
   "metadata": {},
   "outputs": [],
   "source": [
    "df[\"open\"] = df[\"open\"].apply(merge_close_price)"
   ]
  },
  {
   "cell_type": "code",
   "execution_count": 211,
   "id": "1369c1c3",
   "metadata": {},
   "outputs": [
    {
     "data": {
      "text/html": [
       "<div>\n",
       "<style scoped>\n",
       "    .dataframe tbody tr th:only-of-type {\n",
       "        vertical-align: middle;\n",
       "    }\n",
       "\n",
       "    .dataframe tbody tr th {\n",
       "        vertical-align: top;\n",
       "    }\n",
       "\n",
       "    .dataframe thead th {\n",
       "        text-align: right;\n",
       "    }\n",
       "</style>\n",
       "<table border=\"1\" class=\"dataframe\">\n",
       "  <thead>\n",
       "    <tr style=\"text-align: right;\">\n",
       "      <th></th>\n",
       "      <th>date</th>\n",
       "      <th>news</th>\n",
       "      <th>close</th>\n",
       "      <th>open</th>\n",
       "      <th>volume</th>\n",
       "    </tr>\n",
       "  </thead>\n",
       "  <tbody>\n",
       "    <tr>\n",
       "      <th>3</th>\n",
       "      <td>2017-09-28</td>\n",
       "      <td>Mr. Musk’s booster, scaled back from last year...</td>\n",
       "      <td>22.639999</td>\n",
       "      <td>22.790667</td>\n",
       "      <td>2017-09-28</td>\n",
       "    </tr>\n",
       "    <tr>\n",
       "      <th>0</th>\n",
       "      <td>2017-10-05</td>\n",
       "      <td>This week’s newsletter explores Australia’s se...</td>\n",
       "      <td>23.688667</td>\n",
       "      <td>23.540001</td>\n",
       "      <td>2017-10-05</td>\n",
       "    </tr>\n",
       "    <tr>\n",
       "      <th>1</th>\n",
       "      <td>2017-10-05</td>\n",
       "      <td>Compared to a short pit stop at a gas station,...</td>\n",
       "      <td>23.688667</td>\n",
       "      <td>23.540001</td>\n",
       "      <td>2017-10-05</td>\n",
       "    </tr>\n",
       "    <tr>\n",
       "      <th>4</th>\n",
       "      <td>2017-10-23</td>\n",
       "      <td>Tesla is said to be moving closer to becoming ...</td>\n",
       "      <td>22.468000</td>\n",
       "      <td>22.586666</td>\n",
       "      <td>2017-10-23</td>\n",
       "    </tr>\n",
       "    <tr>\n",
       "      <th>0</th>\n",
       "      <td>2017-11-01</td>\n",
       "      <td>In which I try to wrap my mind around tax inci...</td>\n",
       "      <td>21.405333</td>\n",
       "      <td>20.008667</td>\n",
       "      <td>2017-11-01</td>\n",
       "    </tr>\n",
       "    <tr>\n",
       "      <th>...</th>\n",
       "      <td>...</td>\n",
       "      <td>...</td>\n",
       "      <td>...</td>\n",
       "      <td>...</td>\n",
       "      <td>...</td>\n",
       "    </tr>\n",
       "    <tr>\n",
       "      <th>10010</th>\n",
       "      <td>2022-07-11</td>\n",
       "      <td>Elon Musk liked a tweet from Whole Mars Catal...</td>\n",
       "      <td>234.343338</td>\n",
       "      <td>236.846664</td>\n",
       "      <td>2022-07-11</td>\n",
       "    </tr>\n",
       "    <tr>\n",
       "      <th>10011</th>\n",
       "      <td>2022-07-11</td>\n",
       "      <td>Dude only said he is buying twitter to sell 8...</td>\n",
       "      <td>234.343338</td>\n",
       "      <td>236.846664</td>\n",
       "      <td>2022-07-11</td>\n",
       "    </tr>\n",
       "    <tr>\n",
       "      <th>10012</th>\n",
       "      <td>2022-07-11</td>\n",
       "      <td>Give me your Tesla</td>\n",
       "      <td>234.343338</td>\n",
       "      <td>236.846664</td>\n",
       "      <td>2022-07-11</td>\n",
       "    </tr>\n",
       "    <tr>\n",
       "      <th>10014</th>\n",
       "      <td>2022-07-11</td>\n",
       "      <td>Chick Fil A should definitely go public, they...</td>\n",
       "      <td>234.343338</td>\n",
       "      <td>236.846664</td>\n",
       "      <td>2022-07-11</td>\n",
       "    </tr>\n",
       "    <tr>\n",
       "      <th>10015</th>\n",
       "      <td>2022-07-11</td>\n",
       "      <td>Fossil fuels. Like coal, natural gas...</td>\n",
       "      <td>234.343338</td>\n",
       "      <td>236.846664</td>\n",
       "      <td>2022-07-11</td>\n",
       "    </tr>\n",
       "  </tbody>\n",
       "</table>\n",
       "<p>8037 rows × 5 columns</p>\n",
       "</div>"
      ],
      "text/plain": [
       "             date                                               news  \\\n",
       "3      2017-09-28  Mr. Musk’s booster, scaled back from last year...   \n",
       "0      2017-10-05  This week’s newsletter explores Australia’s se...   \n",
       "1      2017-10-05  Compared to a short pit stop at a gas station,...   \n",
       "4      2017-10-23  Tesla is said to be moving closer to becoming ...   \n",
       "0      2017-11-01  In which I try to wrap my mind around tax inci...   \n",
       "...           ...                                                ...   \n",
       "10010  2022-07-11   Elon Musk liked a tweet from Whole Mars Catal...   \n",
       "10011  2022-07-11   Dude only said he is buying twitter to sell 8...   \n",
       "10012  2022-07-11                                 Give me your Tesla   \n",
       "10014  2022-07-11   Chick Fil A should definitely go public, they...   \n",
       "10015  2022-07-11            Fossil fuels. Like coal, natural gas...   \n",
       "\n",
       "            close        open      volume  \n",
       "3       22.639999   22.790667  2017-09-28  \n",
       "0       23.688667   23.540001  2017-10-05  \n",
       "1       23.688667   23.540001  2017-10-05  \n",
       "4       22.468000   22.586666  2017-10-23  \n",
       "0       21.405333   20.008667  2017-11-01  \n",
       "...           ...         ...         ...  \n",
       "10010  234.343338  236.846664  2022-07-11  \n",
       "10011  234.343338  236.846664  2022-07-11  \n",
       "10012  234.343338  236.846664  2022-07-11  \n",
       "10014  234.343338  236.846664  2022-07-11  \n",
       "10015  234.343338  236.846664  2022-07-11  \n",
       "\n",
       "[8037 rows x 5 columns]"
      ]
     },
     "execution_count": 211,
     "metadata": {},
     "output_type": "execute_result"
    }
   ],
   "source": [
    "df[df[\"open\"] != 0]"
   ]
  },
  {
   "cell_type": "code",
   "execution_count": 213,
   "id": "f0a141f8",
   "metadata": {},
   "outputs": [],
   "source": [
    "def merge_volume(date):\n",
    "    date_format = \"%Y-%m-%d\"\n",
    "    a = datetime.datetime.strptime(date, date_format)\n",
    "    second_date = a + datetime.timedelta(days=1)\n",
    "    second_date = str(second_date).split(\" \")[0]\n",
    "    \n",
    "    if tesla_stock_prices[tesla_stock_prices[\"Date\"] == second_date].empty == True:\n",
    "        return 0 \n",
    "    else:\n",
    "        return tesla_stock_prices[tesla_stock_prices[\"Date\"] == second_date].iloc[0][\"Volume\"]"
   ]
  },
  {
   "cell_type": "code",
   "execution_count": 216,
   "id": "b41fd3cc",
   "metadata": {},
   "outputs": [
    {
     "ename": "TypeError",
     "evalue": "strptime() argument 1 must be str, not int",
     "output_type": "error",
     "traceback": [
      "\u001b[1;31m---------------------------------------------------------------------------\u001b[0m",
      "\u001b[1;31mTypeError\u001b[0m                                 Traceback (most recent call last)",
      "Input \u001b[1;32mIn [216]\u001b[0m, in \u001b[0;36m<cell line: 1>\u001b[1;34m()\u001b[0m\n\u001b[1;32m----> 1\u001b[0m df[\u001b[38;5;124m\"\u001b[39m\u001b[38;5;124mvolume\u001b[39m\u001b[38;5;124m\"\u001b[39m] \u001b[38;5;241m=\u001b[39m \u001b[43mdf\u001b[49m\u001b[43m[\u001b[49m\u001b[38;5;124;43m\"\u001b[39;49m\u001b[38;5;124;43mvolume\u001b[39;49m\u001b[38;5;124;43m\"\u001b[39;49m\u001b[43m]\u001b[49m\u001b[38;5;241;43m.\u001b[39;49m\u001b[43mapply\u001b[49m\u001b[43m(\u001b[49m\u001b[43mmerge_volume\u001b[49m\u001b[43m)\u001b[49m\n",
      "File \u001b[1;32m~\\AppData\\Roaming\\Python\\Python310\\site-packages\\pandas\\core\\series.py:4433\u001b[0m, in \u001b[0;36mSeries.apply\u001b[1;34m(self, func, convert_dtype, args, **kwargs)\u001b[0m\n\u001b[0;32m   4323\u001b[0m \u001b[38;5;28;01mdef\u001b[39;00m \u001b[38;5;21mapply\u001b[39m(\n\u001b[0;32m   4324\u001b[0m     \u001b[38;5;28mself\u001b[39m,\n\u001b[0;32m   4325\u001b[0m     func: AggFuncType,\n\u001b[1;32m   (...)\u001b[0m\n\u001b[0;32m   4328\u001b[0m     \u001b[38;5;241m*\u001b[39m\u001b[38;5;241m*\u001b[39mkwargs,\n\u001b[0;32m   4329\u001b[0m ) \u001b[38;5;241m-\u001b[39m\u001b[38;5;241m>\u001b[39m DataFrame \u001b[38;5;241m|\u001b[39m Series:\n\u001b[0;32m   4330\u001b[0m     \u001b[38;5;124;03m\"\"\"\u001b[39;00m\n\u001b[0;32m   4331\u001b[0m \u001b[38;5;124;03m    Invoke function on values of Series.\u001b[39;00m\n\u001b[0;32m   4332\u001b[0m \n\u001b[1;32m   (...)\u001b[0m\n\u001b[0;32m   4431\u001b[0m \u001b[38;5;124;03m    dtype: float64\u001b[39;00m\n\u001b[0;32m   4432\u001b[0m \u001b[38;5;124;03m    \"\"\"\u001b[39;00m\n\u001b[1;32m-> 4433\u001b[0m     \u001b[38;5;28;01mreturn\u001b[39;00m \u001b[43mSeriesApply\u001b[49m\u001b[43m(\u001b[49m\u001b[38;5;28;43mself\u001b[39;49m\u001b[43m,\u001b[49m\u001b[43m \u001b[49m\u001b[43mfunc\u001b[49m\u001b[43m,\u001b[49m\u001b[43m \u001b[49m\u001b[43mconvert_dtype\u001b[49m\u001b[43m,\u001b[49m\u001b[43m \u001b[49m\u001b[43margs\u001b[49m\u001b[43m,\u001b[49m\u001b[43m \u001b[49m\u001b[43mkwargs\u001b[49m\u001b[43m)\u001b[49m\u001b[38;5;241;43m.\u001b[39;49m\u001b[43mapply\u001b[49m\u001b[43m(\u001b[49m\u001b[43m)\u001b[49m\n",
      "File \u001b[1;32m~\\AppData\\Roaming\\Python\\Python310\\site-packages\\pandas\\core\\apply.py:1082\u001b[0m, in \u001b[0;36mSeriesApply.apply\u001b[1;34m(self)\u001b[0m\n\u001b[0;32m   1078\u001b[0m \u001b[38;5;28;01mif\u001b[39;00m \u001b[38;5;28misinstance\u001b[39m(\u001b[38;5;28mself\u001b[39m\u001b[38;5;241m.\u001b[39mf, \u001b[38;5;28mstr\u001b[39m):\n\u001b[0;32m   1079\u001b[0m     \u001b[38;5;66;03m# if we are a string, try to dispatch\u001b[39;00m\n\u001b[0;32m   1080\u001b[0m     \u001b[38;5;28;01mreturn\u001b[39;00m \u001b[38;5;28mself\u001b[39m\u001b[38;5;241m.\u001b[39mapply_str()\n\u001b[1;32m-> 1082\u001b[0m \u001b[38;5;28;01mreturn\u001b[39;00m \u001b[38;5;28;43mself\u001b[39;49m\u001b[38;5;241;43m.\u001b[39;49m\u001b[43mapply_standard\u001b[49m\u001b[43m(\u001b[49m\u001b[43m)\u001b[49m\n",
      "File \u001b[1;32m~\\AppData\\Roaming\\Python\\Python310\\site-packages\\pandas\\core\\apply.py:1137\u001b[0m, in \u001b[0;36mSeriesApply.apply_standard\u001b[1;34m(self)\u001b[0m\n\u001b[0;32m   1131\u001b[0m         values \u001b[38;5;241m=\u001b[39m obj\u001b[38;5;241m.\u001b[39mastype(\u001b[38;5;28mobject\u001b[39m)\u001b[38;5;241m.\u001b[39m_values\n\u001b[0;32m   1132\u001b[0m         \u001b[38;5;66;03m# error: Argument 2 to \"map_infer\" has incompatible type\u001b[39;00m\n\u001b[0;32m   1133\u001b[0m         \u001b[38;5;66;03m# \"Union[Callable[..., Any], str, List[Union[Callable[..., Any], str]],\u001b[39;00m\n\u001b[0;32m   1134\u001b[0m         \u001b[38;5;66;03m# Dict[Hashable, Union[Union[Callable[..., Any], str],\u001b[39;00m\n\u001b[0;32m   1135\u001b[0m         \u001b[38;5;66;03m# List[Union[Callable[..., Any], str]]]]]\"; expected\u001b[39;00m\n\u001b[0;32m   1136\u001b[0m         \u001b[38;5;66;03m# \"Callable[[Any], Any]\"\u001b[39;00m\n\u001b[1;32m-> 1137\u001b[0m         mapped \u001b[38;5;241m=\u001b[39m \u001b[43mlib\u001b[49m\u001b[38;5;241;43m.\u001b[39;49m\u001b[43mmap_infer\u001b[49m\u001b[43m(\u001b[49m\n\u001b[0;32m   1138\u001b[0m \u001b[43m            \u001b[49m\u001b[43mvalues\u001b[49m\u001b[43m,\u001b[49m\n\u001b[0;32m   1139\u001b[0m \u001b[43m            \u001b[49m\u001b[43mf\u001b[49m\u001b[43m,\u001b[49m\u001b[43m  \u001b[49m\u001b[38;5;66;43;03m# type: ignore[arg-type]\u001b[39;49;00m\n\u001b[0;32m   1140\u001b[0m \u001b[43m            \u001b[49m\u001b[43mconvert\u001b[49m\u001b[38;5;241;43m=\u001b[39;49m\u001b[38;5;28;43mself\u001b[39;49m\u001b[38;5;241;43m.\u001b[39;49m\u001b[43mconvert_dtype\u001b[49m\u001b[43m,\u001b[49m\n\u001b[0;32m   1141\u001b[0m \u001b[43m        \u001b[49m\u001b[43m)\u001b[49m\n\u001b[0;32m   1143\u001b[0m \u001b[38;5;28;01mif\u001b[39;00m \u001b[38;5;28mlen\u001b[39m(mapped) \u001b[38;5;129;01mand\u001b[39;00m \u001b[38;5;28misinstance\u001b[39m(mapped[\u001b[38;5;241m0\u001b[39m], ABCSeries):\n\u001b[0;32m   1144\u001b[0m     \u001b[38;5;66;03m# GH#43986 Need to do list(mapped) in order to get treated as nested\u001b[39;00m\n\u001b[0;32m   1145\u001b[0m     \u001b[38;5;66;03m#  See also GH#25959 regarding EA support\u001b[39;00m\n\u001b[0;32m   1146\u001b[0m     \u001b[38;5;28;01mreturn\u001b[39;00m obj\u001b[38;5;241m.\u001b[39m_constructor_expanddim(\u001b[38;5;28mlist\u001b[39m(mapped), index\u001b[38;5;241m=\u001b[39mobj\u001b[38;5;241m.\u001b[39mindex)\n",
      "File \u001b[1;32m~\\AppData\\Roaming\\Python\\Python310\\site-packages\\pandas\\_libs\\lib.pyx:2870\u001b[0m, in \u001b[0;36mpandas._libs.lib.map_infer\u001b[1;34m()\u001b[0m\n",
      "Input \u001b[1;32mIn [213]\u001b[0m, in \u001b[0;36mmerge_volume\u001b[1;34m(date)\u001b[0m\n\u001b[0;32m      1\u001b[0m \u001b[38;5;28;01mdef\u001b[39;00m \u001b[38;5;21mmerge_volume\u001b[39m(date):\n\u001b[0;32m      2\u001b[0m     date_format \u001b[38;5;241m=\u001b[39m \u001b[38;5;124m\"\u001b[39m\u001b[38;5;124m%\u001b[39m\u001b[38;5;124mY-\u001b[39m\u001b[38;5;124m%\u001b[39m\u001b[38;5;124mm-\u001b[39m\u001b[38;5;132;01m%d\u001b[39;00m\u001b[38;5;124m\"\u001b[39m\n\u001b[1;32m----> 3\u001b[0m     a \u001b[38;5;241m=\u001b[39m \u001b[43mdatetime\u001b[49m\u001b[38;5;241;43m.\u001b[39;49m\u001b[43mdatetime\u001b[49m\u001b[38;5;241;43m.\u001b[39;49m\u001b[43mstrptime\u001b[49m\u001b[43m(\u001b[49m\u001b[43mdate\u001b[49m\u001b[43m,\u001b[49m\u001b[43m \u001b[49m\u001b[43mdate_format\u001b[49m\u001b[43m)\u001b[49m\n\u001b[0;32m      4\u001b[0m     second_date \u001b[38;5;241m=\u001b[39m a \u001b[38;5;241m+\u001b[39m datetime\u001b[38;5;241m.\u001b[39mtimedelta(days\u001b[38;5;241m=\u001b[39m\u001b[38;5;241m1\u001b[39m)\n\u001b[0;32m      5\u001b[0m     second_date \u001b[38;5;241m=\u001b[39m \u001b[38;5;28mstr\u001b[39m(second_date)\u001b[38;5;241m.\u001b[39msplit(\u001b[38;5;124m\"\u001b[39m\u001b[38;5;124m \u001b[39m\u001b[38;5;124m\"\u001b[39m)[\u001b[38;5;241m0\u001b[39m]\n",
      "\u001b[1;31mTypeError\u001b[0m: strptime() argument 1 must be str, not int"
     ]
    }
   ],
   "source": [
    "df[\"volume\"] = df[\"volume\"].apply(merge_volume)"
   ]
  },
  {
   "cell_type": "code",
   "execution_count": 222,
   "id": "ca36fef2",
   "metadata": {},
   "outputs": [],
   "source": [
    "df.to_csv(\"tesla_data.csv\", sep=\",\")"
   ]
  },
  {
   "cell_type": "code",
   "execution_count": 2,
   "id": "b1995609",
   "metadata": {},
   "outputs": [
    {
     "ename": "NameError",
     "evalue": "name 'df' is not defined",
     "output_type": "error",
     "traceback": [
      "\u001b[1;31m---------------------------------------------------------------------------\u001b[0m",
      "\u001b[1;31mNameError\u001b[0m                                 Traceback (most recent call last)",
      "Input \u001b[1;32mIn [2]\u001b[0m, in \u001b[0;36m<cell line: 1>\u001b[1;34m()\u001b[0m\n\u001b[1;32m----> 1\u001b[0m \u001b[43mdf\u001b[49m\u001b[38;5;241m.\u001b[39minfo()\n",
      "\u001b[1;31mNameError\u001b[0m: name 'df' is not defined"
     ]
    }
   ],
   "source": [
    "df.info()"
   ]
  },
  {
   "cell_type": "code",
   "execution_count": 4,
   "id": "9e68e960",
   "metadata": {},
   "outputs": [],
   "source": [
    "reuters = pd.read_csv(r\"Scraping\\reuters\\scraped_data.csv\", sep=\",\")"
   ]
  },
  {
   "cell_type": "code",
   "execution_count": 6,
   "id": "65b835e7",
   "metadata": {},
   "outputs": [
    {
     "name": "stdout",
     "output_type": "stream",
     "text": [
      "<class 'pandas.core.frame.DataFrame'>\n",
      "RangeIndex: 2503 entries, 0 to 2502\n",
      "Data columns (total 5 columns):\n",
      " #   Column          Non-Null Count  Dtype  \n",
      "---  ------          --------------  -----  \n",
      " 0   Unnamed: 0      2503 non-null   int64  \n",
      " 1   category        2503 non-null   object \n",
      " 2   title           2503 non-null   object \n",
      " 3   date            2503 non-null   object \n",
      " 4   url_to_article  0 non-null      float64\n",
      "dtypes: float64(1), int64(1), object(3)\n",
      "memory usage: 97.9+ KB\n"
     ]
    }
   ],
   "source": [
    "reuters.info()"
   ]
  },
  {
   "cell_type": "code",
   "execution_count": 7,
   "id": "953478f4",
   "metadata": {},
   "outputs": [
    {
     "data": {
      "text/html": [
       "<div>\n",
       "<style scoped>\n",
       "    .dataframe tbody tr th:only-of-type {\n",
       "        vertical-align: middle;\n",
       "    }\n",
       "\n",
       "    .dataframe tbody tr th {\n",
       "        vertical-align: top;\n",
       "    }\n",
       "\n",
       "    .dataframe thead th {\n",
       "        text-align: right;\n",
       "    }\n",
       "</style>\n",
       "<table border=\"1\" class=\"dataframe\">\n",
       "  <thead>\n",
       "    <tr style=\"text-align: right;\">\n",
       "      <th></th>\n",
       "      <th>Unnamed: 0</th>\n",
       "      <th>category</th>\n",
       "      <th>title</th>\n",
       "      <th>date</th>\n",
       "      <th>url_to_article</th>\n",
       "    </tr>\n",
       "  </thead>\n",
       "  <tbody>\n",
       "    <tr>\n",
       "      <th>0</th>\n",
       "      <td>0</td>\n",
       "      <td>Business</td>\n",
       "      <td>Comment: To plug the green economy data gap we...</td>\n",
       "      <td>30 min ago</td>\n",
       "      <td>NaN</td>\n",
       "    </tr>\n",
       "    <tr>\n",
       "      <th>1</th>\n",
       "      <td>1</td>\n",
       "      <td>Future of Money</td>\n",
       "      <td>Cryptocurrencies at crossroads after annus hor...</td>\n",
       "      <td>an hour ago</td>\n",
       "      <td>NaN</td>\n",
       "    </tr>\n",
       "    <tr>\n",
       "      <th>2</th>\n",
       "      <td>2</td>\n",
       "      <td>Markets</td>\n",
       "      <td>Wall Street falls fourth straight day as reces...</td>\n",
       "      <td>2:27 AM GMT+1</td>\n",
       "      <td>NaN</td>\n",
       "    </tr>\n",
       "    <tr>\n",
       "      <th>3</th>\n",
       "      <td>3</td>\n",
       "      <td>Charged</td>\n",
       "      <td>U.S. Treasury will delay EV battery sourcing g...</td>\n",
       "      <td>12:28 AM GMT+1</td>\n",
       "      <td>NaN</td>\n",
       "    </tr>\n",
       "    <tr>\n",
       "      <th>4</th>\n",
       "      <td>4</td>\n",
       "      <td>World</td>\n",
       "      <td>Senator Warren, Tesla investor turn up heat ov...</td>\n",
       "      <td>December 19, 2022</td>\n",
       "      <td>NaN</td>\n",
       "    </tr>\n",
       "  </tbody>\n",
       "</table>\n",
       "</div>"
      ],
      "text/plain": [
       "   Unnamed: 0         category  \\\n",
       "0           0         Business   \n",
       "1           1  Future of Money   \n",
       "2           2          Markets   \n",
       "3           3          Charged   \n",
       "4           4            World   \n",
       "\n",
       "                                               title               date  \\\n",
       "0  Comment: To plug the green economy data gap we...         30 min ago   \n",
       "1  Cryptocurrencies at crossroads after annus hor...        an hour ago   \n",
       "2  Wall Street falls fourth straight day as reces...      2:27 AM GMT+1   \n",
       "3  U.S. Treasury will delay EV battery sourcing g...     12:28 AM GMT+1   \n",
       "4  Senator Warren, Tesla investor turn up heat ov...  December 19, 2022   \n",
       "\n",
       "   url_to_article  \n",
       "0             NaN  \n",
       "1             NaN  \n",
       "2             NaN  \n",
       "3             NaN  \n",
       "4             NaN  "
      ]
     },
     "execution_count": 7,
     "metadata": {},
     "output_type": "execute_result"
    }
   ],
   "source": [
    "reuters.head()"
   ]
  },
  {
   "cell_type": "code",
   "execution_count": 9,
   "id": "3b6ac088",
   "metadata": {},
   "outputs": [],
   "source": [
    "reuters = reuters[[\"date\", \"title\"]]"
   ]
  },
  {
   "cell_type": "code",
   "execution_count": 10,
   "id": "939a93a0",
   "metadata": {},
   "outputs": [
    {
     "data": {
      "text/html": [
       "<div>\n",
       "<style scoped>\n",
       "    .dataframe tbody tr th:only-of-type {\n",
       "        vertical-align: middle;\n",
       "    }\n",
       "\n",
       "    .dataframe tbody tr th {\n",
       "        vertical-align: top;\n",
       "    }\n",
       "\n",
       "    .dataframe thead th {\n",
       "        text-align: right;\n",
       "    }\n",
       "</style>\n",
       "<table border=\"1\" class=\"dataframe\">\n",
       "  <thead>\n",
       "    <tr style=\"text-align: right;\">\n",
       "      <th></th>\n",
       "      <th>date</th>\n",
       "      <th>title</th>\n",
       "    </tr>\n",
       "  </thead>\n",
       "  <tbody>\n",
       "    <tr>\n",
       "      <th>0</th>\n",
       "      <td>30 min ago</td>\n",
       "      <td>Comment: To plug the green economy data gap we...</td>\n",
       "    </tr>\n",
       "    <tr>\n",
       "      <th>1</th>\n",
       "      <td>an hour ago</td>\n",
       "      <td>Cryptocurrencies at crossroads after annus hor...</td>\n",
       "    </tr>\n",
       "    <tr>\n",
       "      <th>2</th>\n",
       "      <td>2:27 AM GMT+1</td>\n",
       "      <td>Wall Street falls fourth straight day as reces...</td>\n",
       "    </tr>\n",
       "    <tr>\n",
       "      <th>3</th>\n",
       "      <td>12:28 AM GMT+1</td>\n",
       "      <td>U.S. Treasury will delay EV battery sourcing g...</td>\n",
       "    </tr>\n",
       "    <tr>\n",
       "      <th>4</th>\n",
       "      <td>December 19, 2022</td>\n",
       "      <td>Senator Warren, Tesla investor turn up heat ov...</td>\n",
       "    </tr>\n",
       "  </tbody>\n",
       "</table>\n",
       "</div>"
      ],
      "text/plain": [
       "                date                                              title\n",
       "0         30 min ago  Comment: To plug the green economy data gap we...\n",
       "1        an hour ago  Cryptocurrencies at crossroads after annus hor...\n",
       "2      2:27 AM GMT+1  Wall Street falls fourth straight day as reces...\n",
       "3     12:28 AM GMT+1  U.S. Treasury will delay EV battery sourcing g...\n",
       "4  December 19, 2022  Senator Warren, Tesla investor turn up heat ov..."
      ]
     },
     "execution_count": 10,
     "metadata": {},
     "output_type": "execute_result"
    }
   ],
   "source": [
    "reuters.head()"
   ]
  },
  {
   "cell_type": "code",
   "execution_count": 4,
   "id": "e1e810a7",
   "metadata": {},
   "outputs": [],
   "source": [
    "dataset = pd.read_csv(\"tesla_data.csv\", sep=\";\")"
   ]
  },
  {
   "cell_type": "code",
   "execution_count": 15,
   "id": "989dbe07",
   "metadata": {},
   "outputs": [],
   "source": [
    "def split_dataframe_to_third(data):\n",
    "    dataframes = []\n",
    "    dataframe_length = len(data)\n",
    "    \n",
    "    for i in range(1, 4):\n",
    "        value = int(i * (dataframe_length / 3))\n",
    "        dataframes.append(data.iloc[int((i - 1) * (dataframe_length / 3)):value,])\n",
    "    \n",
    "    return dataframes\n"
   ]
  },
  {
   "cell_type": "code",
   "execution_count": 16,
   "id": "50a17c17",
   "metadata": {},
   "outputs": [],
   "source": [
    "datasets = split_dataframe_to_third(dataset)"
   ]
  },
  {
   "cell_type": "code",
   "execution_count": 17,
   "id": "4836dbb4",
   "metadata": {},
   "outputs": [
    {
     "data": {
      "text/html": [
       "<div>\n",
       "<style scoped>\n",
       "    .dataframe tbody tr th:only-of-type {\n",
       "        vertical-align: middle;\n",
       "    }\n",
       "\n",
       "    .dataframe tbody tr th {\n",
       "        vertical-align: top;\n",
       "    }\n",
       "\n",
       "    .dataframe thead th {\n",
       "        text-align: right;\n",
       "    }\n",
       "</style>\n",
       "<table border=\"1\" class=\"dataframe\">\n",
       "  <thead>\n",
       "    <tr style=\"text-align: right;\">\n",
       "      <th></th>\n",
       "      <th>Unnamed: 0</th>\n",
       "      <th>date</th>\n",
       "      <th>news</th>\n",
       "      <th>label</th>\n",
       "    </tr>\n",
       "  </thead>\n",
       "  <tbody>\n",
       "    <tr>\n",
       "      <th>0</th>\n",
       "      <td>0</td>\n",
       "      <td>1/2/2017</td>\n",
       "      <td>The company says it has determined the likely ...</td>\n",
       "      <td>-1.0</td>\n",
       "    </tr>\n",
       "    <tr>\n",
       "      <th>1</th>\n",
       "      <td>1</td>\n",
       "      <td>1/14/2017</td>\n",
       "      <td>The return to business for Elon Musk’s company...</td>\n",
       "      <td>1.0</td>\n",
       "    </tr>\n",
       "    <tr>\n",
       "      <th>2</th>\n",
       "      <td>2</td>\n",
       "      <td>1/20/2017</td>\n",
       "      <td>The highway agency found that while Tesla’s Au...</td>\n",
       "      <td>1.0</td>\n",
       "    </tr>\n",
       "    <tr>\n",
       "      <th>3</th>\n",
       "      <td>3</td>\n",
       "      <td>1/26/2017</td>\n",
       "      <td>Electric vehicles offer a new chance to Chines...</td>\n",
       "      <td>-1.0</td>\n",
       "    </tr>\n",
       "    <tr>\n",
       "      <th>4</th>\n",
       "      <td>4</td>\n",
       "      <td>1/26/2017</td>\n",
       "      <td>The political tide might seem unfavorable for ...</td>\n",
       "      <td>-1.0</td>\n",
       "    </tr>\n",
       "  </tbody>\n",
       "</table>\n",
       "</div>"
      ],
      "text/plain": [
       "   Unnamed: 0       date                                               news  \\\n",
       "0           0   1/2/2017  The company says it has determined the likely ...   \n",
       "1           1  1/14/2017  The return to business for Elon Musk’s company...   \n",
       "2           2  1/20/2017  The highway agency found that while Tesla’s Au...   \n",
       "3           3  1/26/2017  Electric vehicles offer a new chance to Chines...   \n",
       "4           4  1/26/2017  The political tide might seem unfavorable for ...   \n",
       "\n",
       "   label  \n",
       "0   -1.0  \n",
       "1    1.0  \n",
       "2    1.0  \n",
       "3   -1.0  \n",
       "4   -1.0  "
      ]
     },
     "execution_count": 17,
     "metadata": {},
     "output_type": "execute_result"
    }
   ],
   "source": [
    "datasets[0].head()"
   ]
  },
  {
   "cell_type": "code",
   "execution_count": 25,
   "id": "d0cd5a3d",
   "metadata": {},
   "outputs": [],
   "source": [
    "ibrahim_dataframe = datasets[1]\n",
    "florina_dataframe = datasets[2]\n",
    "mohamed_dataframe = datasets[0]"
   ]
  },
  {
   "cell_type": "code",
   "execution_count": 26,
   "id": "6df54a2a",
   "metadata": {},
   "outputs": [],
   "source": [
    "ibrahim_dataframe.to_csv(\"ibrahim.csv\", sep=\",\")\n",
    "florina_dataframe.to_csv(\"florina.csv\", sep=\",\")\n",
    "mohamed_dataframe.to_csv(\"mohamed.csv\", sep=\",\")"
   ]
  },
  {
   "cell_type": "code",
   "execution_count": null,
   "id": "30ad87ed",
   "metadata": {},
   "outputs": [],
   "source": []
  }
 ],
 "metadata": {
  "kernelspec": {
   "display_name": "Python 3 (ipykernel)",
   "language": "python",
   "name": "python3"
  },
  "language_info": {
   "codemirror_mode": {
    "name": "ipython",
    "version": 3
   },
   "file_extension": ".py",
   "mimetype": "text/x-python",
   "name": "python",
   "nbconvert_exporter": "python",
   "pygments_lexer": "ipython3",
   "version": "3.10.4"
  }
 },
 "nbformat": 4,
 "nbformat_minor": 5
}
