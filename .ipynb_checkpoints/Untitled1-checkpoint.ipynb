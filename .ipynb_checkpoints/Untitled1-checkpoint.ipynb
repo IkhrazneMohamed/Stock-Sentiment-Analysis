{
 "cells": [
  {
   "cell_type": "code",
   "execution_count": 1,
   "id": "0d39983b",
   "metadata": {},
   "outputs": [],
   "source": [
    "import pandas as pd"
   ]
  },
  {
   "cell_type": "code",
   "execution_count": 2,
   "id": "b284d8e3",
   "metadata": {},
   "outputs": [],
   "source": [
    "df = pd.read_csv('cleaned_data.csv', sep = ',')"
   ]
  },
  {
   "cell_type": "code",
   "execution_count": 3,
   "id": "60d4efbd",
   "metadata": {},
   "outputs": [
    {
     "data": {
      "text/html": [
       "<div>\n",
       "<style scoped>\n",
       "    .dataframe tbody tr th:only-of-type {\n",
       "        vertical-align: middle;\n",
       "    }\n",
       "\n",
       "    .dataframe tbody tr th {\n",
       "        vertical-align: top;\n",
       "    }\n",
       "\n",
       "    .dataframe thead th {\n",
       "        text-align: right;\n",
       "    }\n",
       "</style>\n",
       "<table border=\"1\" class=\"dataframe\">\n",
       "  <thead>\n",
       "    <tr style=\"text-align: right;\">\n",
       "      <th></th>\n",
       "      <th>news</th>\n",
       "      <th>label</th>\n",
       "    </tr>\n",
       "  </thead>\n",
       "  <tbody>\n",
       "    <tr>\n",
       "      <th>0</th>\n",
       "      <td>demand Tesla mile significantly increase ton p...</td>\n",
       "      <td>0.0</td>\n",
       "    </tr>\n",
       "    <tr>\n",
       "      <th>1</th>\n",
       "      <td>yeah course absolutely embarasse man like see ...</td>\n",
       "      <td>0.0</td>\n",
       "    </tr>\n",
       "    <tr>\n",
       "      <th>2</th>\n",
       "      <td>remind FUD Tesla go</td>\n",
       "      <td>0.0</td>\n",
       "    </tr>\n",
       "    <tr>\n",
       "      <th>3</th>\n",
       "      <td>SpaceX Tesla create electrostatic fusion confi...</td>\n",
       "      <td>1.0</td>\n",
       "    </tr>\n",
       "    <tr>\n",
       "      <th>4</th>\n",
       "      <td>wanna Tesla hope day</td>\n",
       "      <td>1.0</td>\n",
       "    </tr>\n",
       "  </tbody>\n",
       "</table>\n",
       "</div>"
      ],
      "text/plain": [
       "                                                news  label\n",
       "0  demand Tesla mile significantly increase ton p...    0.0\n",
       "1  yeah course absolutely embarasse man like see ...    0.0\n",
       "2                                remind FUD Tesla go    0.0\n",
       "3  SpaceX Tesla create electrostatic fusion confi...    1.0\n",
       "4                               wanna Tesla hope day    1.0"
      ]
     },
     "execution_count": 3,
     "metadata": {},
     "output_type": "execute_result"
    }
   ],
   "source": [
    "df.head()"
   ]
  },
  {
   "cell_type": "code",
   "execution_count": 4,
   "id": "b390735b",
   "metadata": {},
   "outputs": [
    {
     "data": {
      "text/plain": [
       "(3994, 2)"
      ]
     },
     "execution_count": 4,
     "metadata": {},
     "output_type": "execute_result"
    }
   ],
   "source": [
    "df[df[\"label\"] == 0].shape"
   ]
  },
  {
   "cell_type": "code",
   "execution_count": 5,
   "id": "c763f76e",
   "metadata": {},
   "outputs": [],
   "source": [
    "to_clean = df[df[\"label\"] == 0]"
   ]
  },
  {
   "cell_type": "code",
   "execution_count": 6,
   "id": "fcc5cbb3",
   "metadata": {},
   "outputs": [
    {
     "data": {
      "text/html": [
       "<div>\n",
       "<style scoped>\n",
       "    .dataframe tbody tr th:only-of-type {\n",
       "        vertical-align: middle;\n",
       "    }\n",
       "\n",
       "    .dataframe tbody tr th {\n",
       "        vertical-align: top;\n",
       "    }\n",
       "\n",
       "    .dataframe thead th {\n",
       "        text-align: right;\n",
       "    }\n",
       "</style>\n",
       "<table border=\"1\" class=\"dataframe\">\n",
       "  <thead>\n",
       "    <tr style=\"text-align: right;\">\n",
       "      <th></th>\n",
       "      <th>news</th>\n",
       "      <th>label</th>\n",
       "    </tr>\n",
       "  </thead>\n",
       "  <tbody>\n",
       "    <tr>\n",
       "      <th>0</th>\n",
       "      <td>demand Tesla mile significantly increase ton p...</td>\n",
       "      <td>0.0</td>\n",
       "    </tr>\n",
       "    <tr>\n",
       "      <th>1</th>\n",
       "      <td>yeah course absolutely embarasse man like see ...</td>\n",
       "      <td>0.0</td>\n",
       "    </tr>\n",
       "    <tr>\n",
       "      <th>2</th>\n",
       "      <td>remind FUD Tesla go</td>\n",
       "      <td>0.0</td>\n",
       "    </tr>\n",
       "    <tr>\n",
       "      <th>8</th>\n",
       "      <td>Tesla charge handle like Porsche</td>\n",
       "      <td>0.0</td>\n",
       "    </tr>\n",
       "    <tr>\n",
       "      <th>9</th>\n",
       "      <td>hire electrician Tesla site run line wall charger</td>\n",
       "      <td>0.0</td>\n",
       "    </tr>\n",
       "    <tr>\n",
       "      <th>...</th>\n",
       "      <td>...</td>\n",
       "      <td>...</td>\n",
       "    </tr>\n",
       "    <tr>\n",
       "      <th>6948</th>\n",
       "      <td>like prove twitter bot</td>\n",
       "      <td>0.0</td>\n",
       "    </tr>\n",
       "    <tr>\n",
       "      <th>6950</th>\n",
       "      <td>see parent</td>\n",
       "      <td>0.0</td>\n",
       "    </tr>\n",
       "    <tr>\n",
       "      <th>6951</th>\n",
       "      <td>check Hot Wheels R c Tesla Cyber Truck Mattel ...</td>\n",
       "      <td>0.0</td>\n",
       "    </tr>\n",
       "    <tr>\n",
       "      <th>6954</th>\n",
       "      <td>muslim woman Noo kınaft PAPA PAMILE ok Iwil or...</td>\n",
       "      <td>0.0</td>\n",
       "    </tr>\n",
       "    <tr>\n",
       "      <th>6962</th>\n",
       "      <td>future</td>\n",
       "      <td>0.0</td>\n",
       "    </tr>\n",
       "  </tbody>\n",
       "</table>\n",
       "<p>3994 rows × 2 columns</p>\n",
       "</div>"
      ],
      "text/plain": [
       "                                                   news  label\n",
       "0     demand Tesla mile significantly increase ton p...    0.0\n",
       "1     yeah course absolutely embarasse man like see ...    0.0\n",
       "2                                   remind FUD Tesla go    0.0\n",
       "8                      Tesla charge handle like Porsche    0.0\n",
       "9     hire electrician Tesla site run line wall charger    0.0\n",
       "...                                                 ...    ...\n",
       "6948                             like prove twitter bot    0.0\n",
       "6950                                         see parent    0.0\n",
       "6951  check Hot Wheels R c Tesla Cyber Truck Mattel ...    0.0\n",
       "6954  muslim woman Noo kınaft PAPA PAMILE ok Iwil or...    0.0\n",
       "6962                                             future    0.0\n",
       "\n",
       "[3994 rows x 2 columns]"
      ]
     },
     "execution_count": 6,
     "metadata": {},
     "output_type": "execute_result"
    }
   ],
   "source": [
    "to_clean"
   ]
  },
  {
   "cell_type": "code",
   "execution_count": 7,
   "id": "08c04d92",
   "metadata": {},
   "outputs": [
    {
     "data": {
      "text/html": [
       "<div>\n",
       "<style scoped>\n",
       "    .dataframe tbody tr th:only-of-type {\n",
       "        vertical-align: middle;\n",
       "    }\n",
       "\n",
       "    .dataframe tbody tr th {\n",
       "        vertical-align: top;\n",
       "    }\n",
       "\n",
       "    .dataframe thead th {\n",
       "        text-align: right;\n",
       "    }\n",
       "</style>\n",
       "<table border=\"1\" class=\"dataframe\">\n",
       "  <thead>\n",
       "    <tr style=\"text-align: right;\">\n",
       "      <th></th>\n",
       "      <th>news</th>\n",
       "      <th>label</th>\n",
       "    </tr>\n",
       "  </thead>\n",
       "  <tbody>\n",
       "    <tr>\n",
       "      <th>2513</th>\n",
       "      <td>yes</td>\n",
       "      <td>0.0</td>\n",
       "    </tr>\n",
       "    <tr>\n",
       "      <th>3009</th>\n",
       "      <td>yes</td>\n",
       "      <td>0.0</td>\n",
       "    </tr>\n",
       "    <tr>\n",
       "      <th>3673</th>\n",
       "      <td>yes</td>\n",
       "      <td>0.0</td>\n",
       "    </tr>\n",
       "  </tbody>\n",
       "</table>\n",
       "</div>"
      ],
      "text/plain": [
       "     news  label\n",
       "2513  yes    0.0\n",
       "3009  yes    0.0\n",
       "3673  yes    0.0"
      ]
     },
     "execution_count": 7,
     "metadata": {},
     "output_type": "execute_result"
    }
   ],
   "source": [
    "to_clean[to_clean[\"news\"] == \"yes\"]"
   ]
  },
  {
   "cell_type": "code",
   "execution_count": 8,
   "id": "d524602d",
   "metadata": {},
   "outputs": [
    {
     "data": {
      "text/html": [
       "<div>\n",
       "<style scoped>\n",
       "    .dataframe tbody tr th:only-of-type {\n",
       "        vertical-align: middle;\n",
       "    }\n",
       "\n",
       "    .dataframe tbody tr th {\n",
       "        vertical-align: top;\n",
       "    }\n",
       "\n",
       "    .dataframe thead th {\n",
       "        text-align: right;\n",
       "    }\n",
       "</style>\n",
       "<table border=\"1\" class=\"dataframe\">\n",
       "  <thead>\n",
       "    <tr style=\"text-align: right;\">\n",
       "      <th></th>\n",
       "      <th>news</th>\n",
       "      <th>label</th>\n",
       "    </tr>\n",
       "  </thead>\n",
       "  <tbody>\n",
       "    <tr>\n",
       "      <th>0</th>\n",
       "      <td>demand Tesla mile significantly increase ton p...</td>\n",
       "      <td>0.0</td>\n",
       "    </tr>\n",
       "    <tr>\n",
       "      <th>1</th>\n",
       "      <td>yeah course absolutely embarasse man like see ...</td>\n",
       "      <td>0.0</td>\n",
       "    </tr>\n",
       "    <tr>\n",
       "      <th>2</th>\n",
       "      <td>remind FUD Tesla go</td>\n",
       "      <td>0.0</td>\n",
       "    </tr>\n",
       "    <tr>\n",
       "      <th>8</th>\n",
       "      <td>Tesla charge handle like Porsche</td>\n",
       "      <td>0.0</td>\n",
       "    </tr>\n",
       "    <tr>\n",
       "      <th>9</th>\n",
       "      <td>hire electrician Tesla site run line wall charger</td>\n",
       "      <td>0.0</td>\n",
       "    </tr>\n",
       "    <tr>\n",
       "      <th>...</th>\n",
       "      <td>...</td>\n",
       "      <td>...</td>\n",
       "    </tr>\n",
       "    <tr>\n",
       "      <th>6948</th>\n",
       "      <td>like prove twitter bot</td>\n",
       "      <td>0.0</td>\n",
       "    </tr>\n",
       "    <tr>\n",
       "      <th>6950</th>\n",
       "      <td>see parent</td>\n",
       "      <td>0.0</td>\n",
       "    </tr>\n",
       "    <tr>\n",
       "      <th>6951</th>\n",
       "      <td>check Hot Wheels R c Tesla Cyber Truck Mattel ...</td>\n",
       "      <td>0.0</td>\n",
       "    </tr>\n",
       "    <tr>\n",
       "      <th>6954</th>\n",
       "      <td>muslim woman Noo kınaft PAPA PAMILE ok Iwil or...</td>\n",
       "      <td>0.0</td>\n",
       "    </tr>\n",
       "    <tr>\n",
       "      <th>6962</th>\n",
       "      <td>future</td>\n",
       "      <td>0.0</td>\n",
       "    </tr>\n",
       "  </tbody>\n",
       "</table>\n",
       "<p>3991 rows × 2 columns</p>\n",
       "</div>"
      ],
      "text/plain": [
       "                                                   news  label\n",
       "0     demand Tesla mile significantly increase ton p...    0.0\n",
       "1     yeah course absolutely embarasse man like see ...    0.0\n",
       "2                                   remind FUD Tesla go    0.0\n",
       "8                      Tesla charge handle like Porsche    0.0\n",
       "9     hire electrician Tesla site run line wall charger    0.0\n",
       "...                                                 ...    ...\n",
       "6948                             like prove twitter bot    0.0\n",
       "6950                                         see parent    0.0\n",
       "6951  check Hot Wheels R c Tesla Cyber Truck Mattel ...    0.0\n",
       "6954  muslim woman Noo kınaft PAPA PAMILE ok Iwil or...    0.0\n",
       "6962                                             future    0.0\n",
       "\n",
       "[3991 rows x 2 columns]"
      ]
     },
     "execution_count": 8,
     "metadata": {},
     "output_type": "execute_result"
    }
   ],
   "source": [
    "to_clean.drop(to_clean[to_clean.news == \"yes\"].index)"
   ]
  },
  {
   "cell_type": "code",
   "execution_count": 9,
   "id": "82447e94",
   "metadata": {},
   "outputs": [],
   "source": [
    "def check_long_of_sentence(sentence):\n",
    "    if len(sentence.split(\" \")) > 2:\n",
    "        return sentence\n",
    "    else:\n",
    "        return ''"
   ]
  },
  {
   "cell_type": "code",
   "execution_count": 10,
   "id": "4ed4bbb1",
   "metadata": {},
   "outputs": [
    {
     "name": "stderr",
     "output_type": "stream",
     "text": [
      "C:\\Users\\moham\\AppData\\Local\\Temp\\ipykernel_12976\\757048193.py:1: SettingWithCopyWarning: \n",
      "A value is trying to be set on a copy of a slice from a DataFrame.\n",
      "Try using .loc[row_indexer,col_indexer] = value instead\n",
      "\n",
      "See the caveats in the documentation: https://pandas.pydata.org/pandas-docs/stable/user_guide/indexing.html#returning-a-view-versus-a-copy\n",
      "  to_clean[\"news\"] = to_clean[\"news\"].apply(check_long_of_sentence)\n"
     ]
    }
   ],
   "source": [
    "to_clean[\"news\"] = to_clean[\"news\"].apply(check_long_of_sentence)"
   ]
  },
  {
   "cell_type": "code",
   "execution_count": 11,
   "id": "e613077c",
   "metadata": {},
   "outputs": [
    {
     "data": {
      "text/html": [
       "<div>\n",
       "<style scoped>\n",
       "    .dataframe tbody tr th:only-of-type {\n",
       "        vertical-align: middle;\n",
       "    }\n",
       "\n",
       "    .dataframe tbody tr th {\n",
       "        vertical-align: top;\n",
       "    }\n",
       "\n",
       "    .dataframe thead th {\n",
       "        text-align: right;\n",
       "    }\n",
       "</style>\n",
       "<table border=\"1\" class=\"dataframe\">\n",
       "  <thead>\n",
       "    <tr style=\"text-align: right;\">\n",
       "      <th></th>\n",
       "      <th>news</th>\n",
       "      <th>label</th>\n",
       "    </tr>\n",
       "  </thead>\n",
       "  <tbody>\n",
       "  </tbody>\n",
       "</table>\n",
       "</div>"
      ],
      "text/plain": [
       "Empty DataFrame\n",
       "Columns: [news, label]\n",
       "Index: []"
      ]
     },
     "execution_count": 11,
     "metadata": {},
     "output_type": "execute_result"
    }
   ],
   "source": [
    "to_clean[to_clean[\"news\"] == \"None\"]"
   ]
  },
  {
   "cell_type": "code",
   "execution_count": 12,
   "id": "99f9d51e",
   "metadata": {},
   "outputs": [],
   "source": [
    "to_clean = to_clean[to_clean[\"news\"].isnull() != True]"
   ]
  },
  {
   "cell_type": "code",
   "execution_count": 16,
   "id": "293f8fd4",
   "metadata": {},
   "outputs": [
    {
     "data": {
      "text/plain": [
       "(3994, 2)"
      ]
     },
     "execution_count": 16,
     "metadata": {},
     "output_type": "execute_result"
    }
   ],
   "source": [
    "to_clean.shape"
   ]
  },
  {
   "cell_type": "code",
   "execution_count": 17,
   "id": "03230450",
   "metadata": {},
   "outputs": [],
   "source": [
    "def split_dataframe_to_third(data):\n",
    "    dataframes = []\n",
    "    dataframe_length = len(data)\n",
    "    \n",
    "    for i in range(1, 4):\n",
    "        value = int(i * (dataframe_length / 3))\n",
    "        dataframes.append(data.iloc[int((i - 1) * (dataframe_length / 3)):value,])\n",
    "    \n",
    "    return dataframes"
   ]
  },
  {
   "cell_type": "code",
   "execution_count": 19,
   "id": "8b4766f9",
   "metadata": {},
   "outputs": [],
   "source": [
    "datasets = split_dataframe_to_third(to_clean)"
   ]
  },
  {
   "cell_type": "code",
   "execution_count": 20,
   "id": "c0d38e55",
   "metadata": {},
   "outputs": [],
   "source": [
    "ibrahim_dataframe = datasets[1]\n",
    "florina_dataframe = datasets[2]\n",
    "mohamed_dataframe = datasets[0]"
   ]
  },
  {
   "cell_type": "code",
   "execution_count": null,
   "id": "9d1cac6c",
   "metadata": {},
   "outputs": [],
   "source": [
    "ibrahim_dataframe.to_csv(\"to_clean\\ibrahim.csv\", sep=\",\")\n",
    "florina_dataframe.to_csv(\"to_clean\\florina.csv\", sep=\",\")\n",
    "mohamed_dataframe.to_csv(\"to_clean\\mohamed.csv\", sep=\",\")"
   ]
  }
 ],
 "metadata": {
  "kernelspec": {
   "display_name": "Python 3 (ipykernel)",
   "language": "python",
   "name": "python3"
  },
  "language_info": {
   "codemirror_mode": {
    "name": "ipython",
    "version": 3
   },
   "file_extension": ".py",
   "mimetype": "text/x-python",
   "name": "python",
   "nbconvert_exporter": "python",
   "pygments_lexer": "ipython3",
   "version": "3.10.4"
  }
 },
 "nbformat": 4,
 "nbformat_minor": 5
}
