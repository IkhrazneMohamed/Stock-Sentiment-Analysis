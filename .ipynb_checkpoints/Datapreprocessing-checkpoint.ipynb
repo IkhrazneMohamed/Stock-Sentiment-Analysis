{
 "cells": [
  {
   "cell_type": "code",
   "execution_count": 30,
   "id": "47d7426a",
   "metadata": {},
   "outputs": [],
   "source": [
    "import pandas as pd\n",
    "import missingno as msno\n",
    "import re "
   ]
  },
  {
   "cell_type": "code",
   "execution_count": 3,
   "id": "4d1a23ff",
   "metadata": {},
   "outputs": [],
   "source": [
    "dataset = pd.read_csv(r\"tesla_data.csv\", sep=\",\")"
   ]
  },
  {
   "cell_type": "code",
   "execution_count": 4,
   "id": "e1ee8e13",
   "metadata": {},
   "outputs": [
    {
     "name": "stdout",
     "output_type": "stream",
     "text": [
      "<class 'pandas.core.frame.DataFrame'>\n",
      "RangeIndex: 8609 entries, 0 to 8608\n",
      "Data columns (total 6 columns):\n",
      " #   Column      Non-Null Count  Dtype  \n",
      "---  ------      --------------  -----  \n",
      " 0   Unnamed: 0  8609 non-null   int64  \n",
      " 1   date        8609 non-null   object \n",
      " 2   news        8609 non-null   object \n",
      " 3   close       8609 non-null   float64\n",
      " 4   open        8609 non-null   float64\n",
      " 5   volume      8609 non-null   int64  \n",
      "dtypes: float64(2), int64(2), object(2)\n",
      "memory usage: 403.7+ KB\n"
     ]
    }
   ],
   "source": [
    "dataset.info()"
   ]
  },
  {
   "cell_type": "code",
   "execution_count": 5,
   "id": "9c2747ff",
   "metadata": {},
   "outputs": [
    {
     "data": {
      "text/html": [
       "<div>\n",
       "<style scoped>\n",
       "    .dataframe tbody tr th:only-of-type {\n",
       "        vertical-align: middle;\n",
       "    }\n",
       "\n",
       "    .dataframe tbody tr th {\n",
       "        vertical-align: top;\n",
       "    }\n",
       "\n",
       "    .dataframe thead th {\n",
       "        text-align: right;\n",
       "    }\n",
       "</style>\n",
       "<table border=\"1\" class=\"dataframe\">\n",
       "  <thead>\n",
       "    <tr style=\"text-align: right;\">\n",
       "      <th></th>\n",
       "      <th>Unnamed: 0</th>\n",
       "      <th>date</th>\n",
       "      <th>news</th>\n",
       "      <th>close</th>\n",
       "      <th>open</th>\n",
       "      <th>volume</th>\n",
       "    </tr>\n",
       "  </thead>\n",
       "  <tbody>\n",
       "    <tr>\n",
       "      <th>0</th>\n",
       "      <td>0</td>\n",
       "      <td>2017-01-02</td>\n",
       "      <td>The company says it has determined the likely ...</td>\n",
       "      <td>0.0</td>\n",
       "      <td>0.0</td>\n",
       "      <td>0</td>\n",
       "    </tr>\n",
       "    <tr>\n",
       "      <th>1</th>\n",
       "      <td>1</td>\n",
       "      <td>2017-01-14</td>\n",
       "      <td>The return to business for Elon Musk’s company...</td>\n",
       "      <td>0.0</td>\n",
       "      <td>0.0</td>\n",
       "      <td>0</td>\n",
       "    </tr>\n",
       "    <tr>\n",
       "      <th>2</th>\n",
       "      <td>2</td>\n",
       "      <td>2017-01-20</td>\n",
       "      <td>The highway agency found that while Tesla’s Au...</td>\n",
       "      <td>0.0</td>\n",
       "      <td>0.0</td>\n",
       "      <td>0</td>\n",
       "    </tr>\n",
       "    <tr>\n",
       "      <th>3</th>\n",
       "      <td>3</td>\n",
       "      <td>2017-01-26</td>\n",
       "      <td>Electric vehicles offer a new chance to Chines...</td>\n",
       "      <td>0.0</td>\n",
       "      <td>0.0</td>\n",
       "      <td>0</td>\n",
       "    </tr>\n",
       "    <tr>\n",
       "      <th>4</th>\n",
       "      <td>4</td>\n",
       "      <td>2017-01-26</td>\n",
       "      <td>The political tide might seem unfavorable for ...</td>\n",
       "      <td>0.0</td>\n",
       "      <td>0.0</td>\n",
       "      <td>0</td>\n",
       "    </tr>\n",
       "  </tbody>\n",
       "</table>\n",
       "</div>"
      ],
      "text/plain": [
       "   Unnamed: 0        date                                               news  \\\n",
       "0           0  2017-01-02  The company says it has determined the likely ...   \n",
       "1           1  2017-01-14  The return to business for Elon Musk’s company...   \n",
       "2           2  2017-01-20  The highway agency found that while Tesla’s Au...   \n",
       "3           3  2017-01-26  Electric vehicles offer a new chance to Chines...   \n",
       "4           4  2017-01-26  The political tide might seem unfavorable for ...   \n",
       "\n",
       "   close  open  volume  \n",
       "0    0.0   0.0       0  \n",
       "1    0.0   0.0       0  \n",
       "2    0.0   0.0       0  \n",
       "3    0.0   0.0       0  \n",
       "4    0.0   0.0       0  "
      ]
     },
     "execution_count": 5,
     "metadata": {},
     "output_type": "execute_result"
    }
   ],
   "source": [
    "dataset.head()"
   ]
  },
  {
   "cell_type": "code",
   "execution_count": 6,
   "id": "387a134c",
   "metadata": {},
   "outputs": [],
   "source": [
    "dataset['news'] = dataset['news'].apply(lambda x: re.split('https:\\/\\/.*', str(x))[0])"
   ]
  },
  {
   "cell_type": "code",
   "execution_count": 10,
   "id": "22bdff0c",
   "metadata": {},
   "outputs": [],
   "source": [
    "dataset.to_csv(\"tesla_data.csv\", sep=\",\")"
   ]
  },
  {
   "cell_type": "code",
   "execution_count": 12,
   "id": "2ce18ed0",
   "metadata": {},
   "outputs": [],
   "source": [
    "dataset['news'] = dataset['news'].apply(lambda x: x.replace(\"â€™\", \"'\"))"
   ]
  },
  {
   "cell_type": "code",
   "execution_count": 14,
   "id": "3173e825",
   "metadata": {},
   "outputs": [],
   "source": [
    "dataset.to_csv(\"tesla_data.csv\", sep=\",\")"
   ]
  },
  {
   "cell_type": "code",
   "execution_count": 19,
   "id": "e2764ab6",
   "metadata": {},
   "outputs": [],
   "source": [
    "dataset = dataset[[\"date\", \"news\"]]"
   ]
  },
  {
   "cell_type": "code",
   "execution_count": 22,
   "id": "42ed6482",
   "metadata": {},
   "outputs": [],
   "source": [
    "dataset.to_csv(\"tesla_data.csv\", sep=\",\")"
   ]
  },
  {
   "cell_type": "code",
   "execution_count": 25,
   "id": "834433eb",
   "metadata": {},
   "outputs": [
    {
     "data": {
      "text/plain": [
       "(8609, 2)"
      ]
     },
     "execution_count": 25,
     "metadata": {},
     "output_type": "execute_result"
    }
   ],
   "source": [
    "dataset.shape"
   ]
  },
  {
   "cell_type": "code",
   "execution_count": 29,
   "id": "89b035ab",
   "metadata": {},
   "outputs": [
    {
     "data": {
      "text/plain": [
       "date     770\n",
       "news    8310\n",
       "dtype: int64"
      ]
     },
     "execution_count": 29,
     "metadata": {},
     "output_type": "execute_result"
    }
   ],
   "source": [
    "dataset.nunique()"
   ]
  },
  {
   "cell_type": "code",
   "execution_count": 32,
   "id": "2c105faf",
   "metadata": {},
   "outputs": [
    {
     "data": {
      "text/plain": [
       "<AxesSubplot:>"
      ]
     },
     "execution_count": 32,
     "metadata": {},
     "output_type": "execute_result"
    },
    {
     "data": {
      "image/png": "[encoded data removed]",
      "text/plain": [
       "<Figure size 1800x720 with 2 Axes>"
      ]
     },
     "metadata": {
      "needs_background": "light"
     },
     "output_type": "display_data"
    }
   ],
   "source": [
    "msno.matrix(dataset)"
   ]
  },
  {
   "cell_type": "code",
   "execution_count": null,
   "id": "e8df691a",
   "metadata": {},
   "outputs": [],
   "source": []
  }
 ],
 "metadata": {
  "kernelspec": {
   "display_name": "Python 3 (ipykernel)",
   "language": "python",
   "name": "python3"
  },
  "language_info": {
   "codemirror_mode": {
    "name": "ipython",
    "version": 3
   },
   "file_extension": ".py",
   "mimetype": "text/x-python",
   "name": "python",
   "nbconvert_exporter": "python",
   "pygments_lexer": "ipython3",
   "version": "3.10.4"
  }
 },
 "nbformat": 4,
 "nbformat_minor": 5
}
