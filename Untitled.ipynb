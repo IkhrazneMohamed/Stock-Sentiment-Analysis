{
 "cells": [
  {
   "cell_type": "code",
   "execution_count": 49,
   "id": "0fd50a33",
   "metadata": {},
   "outputs": [],
   "source": [
    "import pandas as pd"
   ]
  },
  {
   "cell_type": "code",
   "execution_count": 50,
   "id": "e93666b3",
   "metadata": {},
   "outputs": [],
   "source": [
    "## data Exploration\n",
    "ibrahim_data = pd.read_csv(r\"data\\ibrahim.csv\", sep=\";\")\n",
    "florina_data = pd.read_csv(r\"data\\florina.csv\", sep=\";\")\n",
    "mohamed_data = pd.read_csv(r\"data\\mohamed.csv\", sep=\";\")\n",
    "\n",
    "dataset = pd.concat([ibrahim_data, florina_data, mohamed_data])"
   ]
  },
  {
   "cell_type": "code",
   "execution_count": 51,
   "id": "519a9934",
   "metadata": {},
   "outputs": [],
   "source": [
    "zero_data = pd.concat([pd.read_csv(r\"C:\\Users\\moham\\Downloads\\ibrahim2.csv\", sep=\";\", encoding='utf-8'), pd.read_csv(r\"C:\\Users\\moham\\Downloads\\lina2 (version).csv\", sep=\";\", encoding=\"utf-8\")])"
   ]
  },
  {
   "cell_type": "code",
   "execution_count": 52,
   "id": "1c1f7185",
   "metadata": {},
   "outputs": [],
   "source": [
    "dataset = dataset[dataset['label'] != 0]"
   ]
  },
  {
   "cell_type": "code",
   "execution_count": 53,
   "id": "5e92ec26",
   "metadata": {},
   "outputs": [],
   "source": [
    "dataset = dataset[[\"news\", \"label\"]]"
   ]
  },
  {
   "cell_type": "code",
   "execution_count": 54,
   "id": "46ac89b0",
   "metadata": {},
   "outputs": [
    {
     "data": {
      "text/plain": [
       "<bound method NDFrame.head of                                                    news  label\n",
       "0      As the temperatures in the UK soar, don’t for...    1.0\n",
       "2      Can you just make sure the Tesla paint doesn’...   -1.0\n",
       "3      He taught himself computer programming at 10,...    1.0\n",
       "4      Because an old tech thinking. Gas cars have a...    1.0\n",
       "5      Articles for months Wall Street journal. Expl...   -1.0\n",
       "...                                                 ...    ...\n",
       "2797   When are you going to come out with the Actua...    1.0\n",
       "2798   To which Musk replied, \"Ha! You'll have to ca...    1.0\n",
       "2799   Two reasons to buy the Porsche instead of the...   -1.0\n",
       "2800   Elon Musk Sued by Tesla Shareholder Over Raci...   -1.0\n",
       "2801   Build Nikola Tesla’s Wardenclyffe Tower to hi...   -1.0\n",
       "\n",
       "[4471 rows x 2 columns]>"
      ]
     },
     "execution_count": 54,
     "metadata": {},
     "output_type": "execute_result"
    }
   ],
   "source": [
    "dataset.head"
   ]
  },
  {
   "cell_type": "code",
   "execution_count": 55,
   "id": "079fea83",
   "metadata": {},
   "outputs": [
    {
     "data": {
      "text/plain": [
       "Index(['Column1', 'news', 'label'], dtype='object')"
      ]
     },
     "execution_count": 55,
     "metadata": {},
     "output_type": "execute_result"
    }
   ],
   "source": [
    "zero_data.columns"
   ]
  },
  {
   "cell_type": "code",
   "execution_count": 56,
   "id": "59f882a5",
   "metadata": {},
   "outputs": [],
   "source": [
    "zero_data = zero_data[[\"news\", \"label\"]]"
   ]
  },
  {
   "cell_type": "code",
   "execution_count": 57,
   "id": "0d0c4aa2",
   "metadata": {},
   "outputs": [],
   "source": [
    "dataset = pd.concat([dataset, zero_data])"
   ]
  },
  {
   "cell_type": "code",
   "execution_count": 58,
   "id": "00f3002b",
   "metadata": {},
   "outputs": [],
   "source": [
    "dataset = pd.concat([dataset, pd.read_csv(r\"to_clean\\mohamed.csv\", sep=\",\")[[\"news\", \"label\"]]])"
   ]
  },
  {
   "cell_type": "code",
   "execution_count": 59,
   "id": "b22e675e",
   "metadata": {},
   "outputs": [
    {
     "name": "stdout",
     "output_type": "stream",
     "text": [
      "<class 'pandas.core.frame.DataFrame'>\n",
      "Int64Index: 7905 entries, 0 to 1330\n",
      "Data columns (total 2 columns):\n",
      " #   Column  Non-Null Count  Dtype  \n",
      "---  ------  --------------  -----  \n",
      " 0   news    7839 non-null   object \n",
      " 1   label   6574 non-null   float64\n",
      "dtypes: float64(1), object(1)\n",
      "memory usage: 185.3+ KB\n"
     ]
    }
   ],
   "source": [
    "dataset.info()"
   ]
  },
  {
   "cell_type": "code",
   "execution_count": 60,
   "id": "414bee5c",
   "metadata": {},
   "outputs": [],
   "source": [
    "dataset.to_csv(r\"data\\ready_data.csv\", sep=\";\")"
   ]
  }
 ],
 "metadata": {
  "kernelspec": {
   "display_name": "Python 3 (ipykernel)",
   "language": "python",
   "name": "python3"
  },
  "language_info": {
   "codemirror_mode": {
    "name": "ipython",
    "version": 3
   },
   "file_extension": ".py",
   "mimetype": "text/x-python",
   "name": "python",
   "nbconvert_exporter": "python",
   "pygments_lexer": "ipython3",
   "version": "3.10.4"
  }
 },
 "nbformat": 4,
 "nbformat_minor": 5
}
